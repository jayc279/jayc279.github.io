{
 "cells": [
  {
   "cell_type": "markdown",
   "id": "8941021a",
   "metadata": {
    "papermill": {
     "duration": 0.019159,
     "end_time": "2024-02-02T03:24:28.247840",
     "exception": false,
     "start_time": "2024-02-02T03:24:28.228681",
     "status": "completed"
    },
    "tags": []
   },
   "source": [
    "`Walter Reade, Ashley Chow. (2024)`. Binary Classification with a Bank Churn Dataset . Kaggle. https://kaggle.com/competitions/playground-series-s4e1"
   ]
  },
  {
   "cell_type": "markdown",
   "id": "166ed50e",
   "metadata": {
    "papermill": {
     "duration": 0.019103,
     "end_time": "2024-02-02T03:24:28.286360",
     "exception": false,
     "start_time": "2024-02-02T03:24:28.267257",
     "status": "completed"
    },
    "tags": []
   },
   "source": [
    "**Goal** From the inference predict whether a customer continues with their account or closes it (e.g., churns)  \n",
    "**search exercise is done on Google Colab**  please refer to executed script on [GitHub](https://github.com/jayc279/kaggle_notebooks/blob/main/DeepLearning-NN-bank-churn-hyperparameters_search.ipynb)"
   ]
  },
  {
   "cell_type": "markdown",
   "id": "eb805351",
   "metadata": {
    "papermill": {
     "duration": 0.018333,
     "end_time": "2024-02-02T03:24:28.323691",
     "exception": false,
     "start_time": "2024-02-02T03:24:28.305358",
     "status": "completed"
    },
    "tags": []
   },
   "source": [
    "**Included two NN models for hyperparameter search**\n",
    "1. Sequential\n",
    "2. Functional\n",
    "\n",
    "in function: **create_hyper_model** make changes in callback to pick which function you would like to use"
   ]
  },
  {
   "cell_type": "code",
   "execution_count": 1,
   "id": "bdbd64b5",
   "metadata": {
    "execution": {
     "iopub.execute_input": "2024-02-02T03:24:28.365595Z",
     "iopub.status.busy": "2024-02-02T03:24:28.364890Z",
     "iopub.status.idle": "2024-02-02T03:24:29.374719Z",
     "shell.execute_reply": "2024-02-02T03:24:29.373335Z"
    },
    "papermill": {
     "duration": 1.034032,
     "end_time": "2024-02-02T03:24:29.378102",
     "exception": false,
     "start_time": "2024-02-02T03:24:28.344070",
     "status": "completed"
    },
    "tags": []
   },
   "outputs": [],
   "source": [
    "import numpy as np\n",
    "import pandas as pd\n",
    "import math\n",
    "import os\n",
    "import gc\n",
    "import re\n",
    "import inspect\n",
    "\n",
    "import warnings\n",
    "warnings.filterwarnings('ignore')\n",
    "pd.set_option('display.max_columns', None)"
   ]
  },
  {
   "cell_type": "code",
   "execution_count": 2,
   "id": "5f0c6207",
   "metadata": {
    "_cell_guid": "b1076dfc-b9ad-4769-8c92-a6c4dae69d19",
    "_uuid": "8f2839f25d086af736a60e9eeb907d3b93b6e0e5",
    "execution": {
     "iopub.execute_input": "2024-02-02T03:24:29.418148Z",
     "iopub.status.busy": "2024-02-02T03:24:29.417580Z",
     "iopub.status.idle": "2024-02-02T03:24:30.279922Z",
     "shell.execute_reply": "2024-02-02T03:24:30.278500Z"
    },
    "papermill": {
     "duration": 0.885897,
     "end_time": "2024-02-02T03:24:30.283199",
     "exception": false,
     "start_time": "2024-02-02T03:24:29.397302",
     "status": "completed"
    },
    "tags": []
   },
   "outputs": [],
   "source": [
    "## Import train and test sets\n",
    "train_dataset = pd.read_csv('/kaggle/input/playground-series-s4e1/train.csv')\n",
    "test_dataset = pd.read_csv('/kaggle/input/playground-series-s4e1/test.csv')"
   ]
  },
  {
   "cell_type": "code",
   "execution_count": 3,
   "id": "c3dbefa1",
   "metadata": {
    "execution": {
     "iopub.execute_input": "2024-02-02T03:24:30.324304Z",
     "iopub.status.busy": "2024-02-02T03:24:30.323592Z",
     "iopub.status.idle": "2024-02-02T03:24:30.330563Z",
     "shell.execute_reply": "2024-02-02T03:24:30.329404Z"
    },
    "papermill": {
     "duration": 0.030683,
     "end_time": "2024-02-02T03:24:30.333263",
     "exception": false,
     "start_time": "2024-02-02T03:24:30.302580",
     "status": "completed"
    },
    "tags": []
   },
   "outputs": [
    {
     "name": "stdout",
     "output_type": "stream",
     "text": [
      "(165034, 14) Index(['id', 'CustomerId', 'Surname', 'CreditScore', 'Geography', 'Gender',\n",
      "       'Age', 'Tenure', 'Balance', 'NumOfProducts', 'HasCrCard',\n",
      "       'IsActiveMember', 'EstimatedSalary', 'Exited'],\n",
      "      dtype='object')\n"
     ]
    }
   ],
   "source": [
    "# check datasets\n",
    "print(train_dataset.shape, train_dataset.columns)"
   ]
  },
  {
   "cell_type": "code",
   "execution_count": 4,
   "id": "c3c39369",
   "metadata": {
    "execution": {
     "iopub.execute_input": "2024-02-02T03:24:30.376241Z",
     "iopub.status.busy": "2024-02-02T03:24:30.375001Z",
     "iopub.status.idle": "2024-02-02T03:24:30.382130Z",
     "shell.execute_reply": "2024-02-02T03:24:30.380765Z"
    },
    "papermill": {
     "duration": 0.030852,
     "end_time": "2024-02-02T03:24:30.384890",
     "exception": false,
     "start_time": "2024-02-02T03:24:30.354038",
     "status": "completed"
    },
    "tags": []
   },
   "outputs": [
    {
     "name": "stdout",
     "output_type": "stream",
     "text": [
      "(110023, 13) Index(['id', 'CustomerId', 'Surname', 'CreditScore', 'Geography', 'Gender',\n",
      "       'Age', 'Tenure', 'Balance', 'NumOfProducts', 'HasCrCard',\n",
      "       'IsActiveMember', 'EstimatedSalary'],\n",
      "      dtype='object')\n"
     ]
    }
   ],
   "source": [
    "print(test_dataset.shape, test_dataset.columns)"
   ]
  },
  {
   "cell_type": "code",
   "execution_count": 5,
   "id": "1b2f5d05",
   "metadata": {
    "execution": {
     "iopub.execute_input": "2024-02-02T03:24:30.427718Z",
     "iopub.status.busy": "2024-02-02T03:24:30.427336Z",
     "iopub.status.idle": "2024-02-02T03:24:30.456089Z",
     "shell.execute_reply": "2024-02-02T03:24:30.454869Z"
    },
    "papermill": {
     "duration": 0.054581,
     "end_time": "2024-02-02T03:24:30.458774",
     "exception": false,
     "start_time": "2024-02-02T03:24:30.404193",
     "status": "completed"
    },
    "tags": []
   },
   "outputs": [
    {
     "data": {
      "text/html": [
       "<div>\n",
       "<style scoped>\n",
       "    .dataframe tbody tr th:only-of-type {\n",
       "        vertical-align: middle;\n",
       "    }\n",
       "\n",
       "    .dataframe tbody tr th {\n",
       "        vertical-align: top;\n",
       "    }\n",
       "\n",
       "    .dataframe thead th {\n",
       "        text-align: right;\n",
       "    }\n",
       "</style>\n",
       "<table border=\"1\" class=\"dataframe\">\n",
       "  <thead>\n",
       "    <tr style=\"text-align: right;\">\n",
       "      <th></th>\n",
       "      <th>id</th>\n",
       "      <th>CustomerId</th>\n",
       "      <th>Surname</th>\n",
       "      <th>CreditScore</th>\n",
       "      <th>Geography</th>\n",
       "      <th>Gender</th>\n",
       "      <th>Age</th>\n",
       "      <th>Tenure</th>\n",
       "      <th>Balance</th>\n",
       "      <th>NumOfProducts</th>\n",
       "      <th>HasCrCard</th>\n",
       "      <th>IsActiveMember</th>\n",
       "      <th>EstimatedSalary</th>\n",
       "      <th>Exited</th>\n",
       "    </tr>\n",
       "  </thead>\n",
       "  <tbody>\n",
       "    <tr>\n",
       "      <th>0</th>\n",
       "      <td>0</td>\n",
       "      <td>15674932</td>\n",
       "      <td>Okwudilichukwu</td>\n",
       "      <td>668</td>\n",
       "      <td>France</td>\n",
       "      <td>Male</td>\n",
       "      <td>33.0</td>\n",
       "      <td>3</td>\n",
       "      <td>0.00</td>\n",
       "      <td>2</td>\n",
       "      <td>1.0</td>\n",
       "      <td>0.0</td>\n",
       "      <td>181449.97</td>\n",
       "      <td>0</td>\n",
       "    </tr>\n",
       "    <tr>\n",
       "      <th>1</th>\n",
       "      <td>1</td>\n",
       "      <td>15749177</td>\n",
       "      <td>Okwudiliolisa</td>\n",
       "      <td>627</td>\n",
       "      <td>France</td>\n",
       "      <td>Male</td>\n",
       "      <td>33.0</td>\n",
       "      <td>1</td>\n",
       "      <td>0.00</td>\n",
       "      <td>2</td>\n",
       "      <td>1.0</td>\n",
       "      <td>1.0</td>\n",
       "      <td>49503.50</td>\n",
       "      <td>0</td>\n",
       "    </tr>\n",
       "    <tr>\n",
       "      <th>2</th>\n",
       "      <td>2</td>\n",
       "      <td>15694510</td>\n",
       "      <td>Hsueh</td>\n",
       "      <td>678</td>\n",
       "      <td>France</td>\n",
       "      <td>Male</td>\n",
       "      <td>40.0</td>\n",
       "      <td>10</td>\n",
       "      <td>0.00</td>\n",
       "      <td>2</td>\n",
       "      <td>1.0</td>\n",
       "      <td>0.0</td>\n",
       "      <td>184866.69</td>\n",
       "      <td>0</td>\n",
       "    </tr>\n",
       "    <tr>\n",
       "      <th>3</th>\n",
       "      <td>3</td>\n",
       "      <td>15741417</td>\n",
       "      <td>Kao</td>\n",
       "      <td>581</td>\n",
       "      <td>France</td>\n",
       "      <td>Male</td>\n",
       "      <td>34.0</td>\n",
       "      <td>2</td>\n",
       "      <td>148882.54</td>\n",
       "      <td>1</td>\n",
       "      <td>1.0</td>\n",
       "      <td>1.0</td>\n",
       "      <td>84560.88</td>\n",
       "      <td>0</td>\n",
       "    </tr>\n",
       "    <tr>\n",
       "      <th>4</th>\n",
       "      <td>4</td>\n",
       "      <td>15766172</td>\n",
       "      <td>Chiemenam</td>\n",
       "      <td>716</td>\n",
       "      <td>Spain</td>\n",
       "      <td>Male</td>\n",
       "      <td>33.0</td>\n",
       "      <td>5</td>\n",
       "      <td>0.00</td>\n",
       "      <td>2</td>\n",
       "      <td>1.0</td>\n",
       "      <td>1.0</td>\n",
       "      <td>15068.83</td>\n",
       "      <td>0</td>\n",
       "    </tr>\n",
       "  </tbody>\n",
       "</table>\n",
       "</div>"
      ],
      "text/plain": [
       "   id  CustomerId         Surname  CreditScore Geography Gender   Age  Tenure  \\\n",
       "0   0    15674932  Okwudilichukwu          668    France   Male  33.0       3   \n",
       "1   1    15749177   Okwudiliolisa          627    France   Male  33.0       1   \n",
       "2   2    15694510           Hsueh          678    France   Male  40.0      10   \n",
       "3   3    15741417             Kao          581    France   Male  34.0       2   \n",
       "4   4    15766172       Chiemenam          716     Spain   Male  33.0       5   \n",
       "\n",
       "     Balance  NumOfProducts  HasCrCard  IsActiveMember  EstimatedSalary  \\\n",
       "0       0.00              2        1.0             0.0        181449.97   \n",
       "1       0.00              2        1.0             1.0         49503.50   \n",
       "2       0.00              2        1.0             0.0        184866.69   \n",
       "3  148882.54              1        1.0             1.0         84560.88   \n",
       "4       0.00              2        1.0             1.0         15068.83   \n",
       "\n",
       "   Exited  \n",
       "0       0  \n",
       "1       0  \n",
       "2       0  \n",
       "3       0  \n",
       "4       0  "
      ]
     },
     "execution_count": 5,
     "metadata": {},
     "output_type": "execute_result"
    }
   ],
   "source": [
    "train_dataset.head()"
   ]
  },
  {
   "cell_type": "code",
   "execution_count": 6,
   "id": "81ddf921",
   "metadata": {
    "execution": {
     "iopub.execute_input": "2024-02-02T03:24:30.500748Z",
     "iopub.status.busy": "2024-02-02T03:24:30.500322Z",
     "iopub.status.idle": "2024-02-02T03:24:30.624809Z",
     "shell.execute_reply": "2024-02-02T03:24:30.623418Z"
    },
    "papermill": {
     "duration": 0.147988,
     "end_time": "2024-02-02T03:24:30.627321",
     "exception": false,
     "start_time": "2024-02-02T03:24:30.479333",
     "status": "completed"
    },
    "tags": []
   },
   "outputs": [
    {
     "data": {
      "text/html": [
       "<div>\n",
       "<style scoped>\n",
       "    .dataframe tbody tr th:only-of-type {\n",
       "        vertical-align: middle;\n",
       "    }\n",
       "\n",
       "    .dataframe tbody tr th {\n",
       "        vertical-align: top;\n",
       "    }\n",
       "\n",
       "    .dataframe thead th {\n",
       "        text-align: right;\n",
       "    }\n",
       "</style>\n",
       "<table border=\"1\" class=\"dataframe\">\n",
       "  <thead>\n",
       "    <tr style=\"text-align: right;\">\n",
       "      <th></th>\n",
       "      <th>id</th>\n",
       "      <th>CustomerId</th>\n",
       "      <th>CreditScore</th>\n",
       "      <th>Age</th>\n",
       "      <th>Tenure</th>\n",
       "      <th>Balance</th>\n",
       "      <th>NumOfProducts</th>\n",
       "      <th>HasCrCard</th>\n",
       "      <th>IsActiveMember</th>\n",
       "      <th>EstimatedSalary</th>\n",
       "      <th>Exited</th>\n",
       "    </tr>\n",
       "  </thead>\n",
       "  <tbody>\n",
       "    <tr>\n",
       "      <th>count</th>\n",
       "      <td>165034.0000</td>\n",
       "      <td>1.650340e+05</td>\n",
       "      <td>165034.000000</td>\n",
       "      <td>165034.000000</td>\n",
       "      <td>165034.000000</td>\n",
       "      <td>165034.000000</td>\n",
       "      <td>165034.000000</td>\n",
       "      <td>165034.000000</td>\n",
       "      <td>165034.000000</td>\n",
       "      <td>165034.000000</td>\n",
       "      <td>165034.000000</td>\n",
       "    </tr>\n",
       "    <tr>\n",
       "      <th>mean</th>\n",
       "      <td>82516.5000</td>\n",
       "      <td>1.569201e+07</td>\n",
       "      <td>656.454373</td>\n",
       "      <td>38.125888</td>\n",
       "      <td>5.020353</td>\n",
       "      <td>55478.086689</td>\n",
       "      <td>1.554455</td>\n",
       "      <td>0.753954</td>\n",
       "      <td>0.497770</td>\n",
       "      <td>112574.822734</td>\n",
       "      <td>0.211599</td>\n",
       "    </tr>\n",
       "    <tr>\n",
       "      <th>std</th>\n",
       "      <td>47641.3565</td>\n",
       "      <td>7.139782e+04</td>\n",
       "      <td>80.103340</td>\n",
       "      <td>8.867205</td>\n",
       "      <td>2.806159</td>\n",
       "      <td>62817.663278</td>\n",
       "      <td>0.547154</td>\n",
       "      <td>0.430707</td>\n",
       "      <td>0.499997</td>\n",
       "      <td>50292.865585</td>\n",
       "      <td>0.408443</td>\n",
       "    </tr>\n",
       "    <tr>\n",
       "      <th>min</th>\n",
       "      <td>0.0000</td>\n",
       "      <td>1.556570e+07</td>\n",
       "      <td>350.000000</td>\n",
       "      <td>18.000000</td>\n",
       "      <td>0.000000</td>\n",
       "      <td>0.000000</td>\n",
       "      <td>1.000000</td>\n",
       "      <td>0.000000</td>\n",
       "      <td>0.000000</td>\n",
       "      <td>11.580000</td>\n",
       "      <td>0.000000</td>\n",
       "    </tr>\n",
       "    <tr>\n",
       "      <th>25%</th>\n",
       "      <td>41258.2500</td>\n",
       "      <td>1.563314e+07</td>\n",
       "      <td>597.000000</td>\n",
       "      <td>32.000000</td>\n",
       "      <td>3.000000</td>\n",
       "      <td>0.000000</td>\n",
       "      <td>1.000000</td>\n",
       "      <td>1.000000</td>\n",
       "      <td>0.000000</td>\n",
       "      <td>74637.570000</td>\n",
       "      <td>0.000000</td>\n",
       "    </tr>\n",
       "    <tr>\n",
       "      <th>50%</th>\n",
       "      <td>82516.5000</td>\n",
       "      <td>1.569017e+07</td>\n",
       "      <td>659.000000</td>\n",
       "      <td>37.000000</td>\n",
       "      <td>5.000000</td>\n",
       "      <td>0.000000</td>\n",
       "      <td>2.000000</td>\n",
       "      <td>1.000000</td>\n",
       "      <td>0.000000</td>\n",
       "      <td>117948.000000</td>\n",
       "      <td>0.000000</td>\n",
       "    </tr>\n",
       "    <tr>\n",
       "      <th>75%</th>\n",
       "      <td>123774.7500</td>\n",
       "      <td>1.575682e+07</td>\n",
       "      <td>710.000000</td>\n",
       "      <td>42.000000</td>\n",
       "      <td>7.000000</td>\n",
       "      <td>119939.517500</td>\n",
       "      <td>2.000000</td>\n",
       "      <td>1.000000</td>\n",
       "      <td>1.000000</td>\n",
       "      <td>155152.467500</td>\n",
       "      <td>0.000000</td>\n",
       "    </tr>\n",
       "    <tr>\n",
       "      <th>max</th>\n",
       "      <td>165033.0000</td>\n",
       "      <td>1.581569e+07</td>\n",
       "      <td>850.000000</td>\n",
       "      <td>92.000000</td>\n",
       "      <td>10.000000</td>\n",
       "      <td>250898.090000</td>\n",
       "      <td>4.000000</td>\n",
       "      <td>1.000000</td>\n",
       "      <td>1.000000</td>\n",
       "      <td>199992.480000</td>\n",
       "      <td>1.000000</td>\n",
       "    </tr>\n",
       "  </tbody>\n",
       "</table>\n",
       "</div>"
      ],
      "text/plain": [
       "                id    CustomerId    CreditScore            Age         Tenure  \\\n",
       "count  165034.0000  1.650340e+05  165034.000000  165034.000000  165034.000000   \n",
       "mean    82516.5000  1.569201e+07     656.454373      38.125888       5.020353   \n",
       "std     47641.3565  7.139782e+04      80.103340       8.867205       2.806159   \n",
       "min         0.0000  1.556570e+07     350.000000      18.000000       0.000000   \n",
       "25%     41258.2500  1.563314e+07     597.000000      32.000000       3.000000   \n",
       "50%     82516.5000  1.569017e+07     659.000000      37.000000       5.000000   \n",
       "75%    123774.7500  1.575682e+07     710.000000      42.000000       7.000000   \n",
       "max    165033.0000  1.581569e+07     850.000000      92.000000      10.000000   \n",
       "\n",
       "             Balance  NumOfProducts      HasCrCard  IsActiveMember  \\\n",
       "count  165034.000000  165034.000000  165034.000000   165034.000000   \n",
       "mean    55478.086689       1.554455       0.753954        0.497770   \n",
       "std     62817.663278       0.547154       0.430707        0.499997   \n",
       "min         0.000000       1.000000       0.000000        0.000000   \n",
       "25%         0.000000       1.000000       1.000000        0.000000   \n",
       "50%         0.000000       2.000000       1.000000        0.000000   \n",
       "75%    119939.517500       2.000000       1.000000        1.000000   \n",
       "max    250898.090000       4.000000       1.000000        1.000000   \n",
       "\n",
       "       EstimatedSalary         Exited  \n",
       "count    165034.000000  165034.000000  \n",
       "mean     112574.822734       0.211599  \n",
       "std       50292.865585       0.408443  \n",
       "min          11.580000       0.000000  \n",
       "25%       74637.570000       0.000000  \n",
       "50%      117948.000000       0.000000  \n",
       "75%      155152.467500       0.000000  \n",
       "max      199992.480000       1.000000  "
      ]
     },
     "execution_count": 6,
     "metadata": {},
     "output_type": "execute_result"
    }
   ],
   "source": [
    "train_dataset.describe()"
   ]
  },
  {
   "cell_type": "code",
   "execution_count": 7,
   "id": "0499b2ee",
   "metadata": {
    "execution": {
     "iopub.execute_input": "2024-02-02T03:24:30.670120Z",
     "iopub.status.busy": "2024-02-02T03:24:30.669488Z",
     "iopub.status.idle": "2024-02-02T03:24:30.750594Z",
     "shell.execute_reply": "2024-02-02T03:24:30.748893Z"
    },
    "papermill": {
     "duration": 0.105582,
     "end_time": "2024-02-02T03:24:30.753031",
     "exception": false,
     "start_time": "2024-02-02T03:24:30.647449",
     "status": "completed"
    },
    "tags": []
   },
   "outputs": [
    {
     "name": "stdout",
     "output_type": "stream",
     "text": [
      "<class 'pandas.core.frame.DataFrame'>\n",
      "RangeIndex: 165034 entries, 0 to 165033\n",
      "Data columns (total 14 columns):\n",
      " #   Column           Non-Null Count   Dtype  \n",
      "---  ------           --------------   -----  \n",
      " 0   id               165034 non-null  int64  \n",
      " 1   CustomerId       165034 non-null  int64  \n",
      " 2   Surname          165034 non-null  object \n",
      " 3   CreditScore      165034 non-null  int64  \n",
      " 4   Geography        165034 non-null  object \n",
      " 5   Gender           165034 non-null  object \n",
      " 6   Age              165034 non-null  float64\n",
      " 7   Tenure           165034 non-null  int64  \n",
      " 8   Balance          165034 non-null  float64\n",
      " 9   NumOfProducts    165034 non-null  int64  \n",
      " 10  HasCrCard        165034 non-null  float64\n",
      " 11  IsActiveMember   165034 non-null  float64\n",
      " 12  EstimatedSalary  165034 non-null  float64\n",
      " 13  Exited           165034 non-null  int64  \n",
      "dtypes: float64(5), int64(6), object(3)\n",
      "memory usage: 17.6+ MB\n"
     ]
    }
   ],
   "source": [
    "train_dataset.info()"
   ]
  },
  {
   "cell_type": "markdown",
   "id": "a8492fd7",
   "metadata": {
    "papermill": {
     "duration": 0.020089,
     "end_time": "2024-02-02T03:24:30.793347",
     "exception": false,
     "start_time": "2024-02-02T03:24:30.773258",
     "status": "completed"
    },
    "tags": []
   },
   "source": [
    "## cleanup datasets\n",
    "1. capture 'Exited' from train-dataset as 'true' label\n",
    "2. capture 'id' from test_data set to create submission-file\n",
    "3. drop columns - 'id', 'CustomerId', 'Surname' - from both datasets\n",
    "4. convert columns - Tenure, Geography, Gender, NumOfProducts, HasCrCard, IsActiveMember - to categorical\n",
    "5. scale numeric columns"
   ]
  },
  {
   "cell_type": "code",
   "execution_count": 8,
   "id": "442420bb",
   "metadata": {
    "execution": {
     "iopub.execute_input": "2024-02-02T03:24:30.835148Z",
     "iopub.status.busy": "2024-02-02T03:24:30.834710Z",
     "iopub.status.idle": "2024-02-02T03:24:30.872986Z",
     "shell.execute_reply": "2024-02-02T03:24:30.871918Z"
    },
    "papermill": {
     "duration": 0.062455,
     "end_time": "2024-02-02T03:24:30.875922",
     "exception": false,
     "start_time": "2024-02-02T03:24:30.813467",
     "status": "completed"
    },
    "tags": []
   },
   "outputs": [],
   "source": [
    "# make copies so as not to reload if error during EDA\n",
    "trainX = train_dataset.copy()\n",
    "testX = test_dataset.copy()\n",
    "\n",
    "trainY = trainX['Exited']\n",
    "trainX = train_dataset.drop(['Exited'], axis=1)"
   ]
  },
  {
   "cell_type": "code",
   "execution_count": 9,
   "id": "687e2097",
   "metadata": {
    "execution": {
     "iopub.execute_input": "2024-02-02T03:24:30.917623Z",
     "iopub.status.busy": "2024-02-02T03:24:30.917236Z",
     "iopub.status.idle": "2024-02-02T03:24:30.940042Z",
     "shell.execute_reply": "2024-02-02T03:24:30.938863Z"
    },
    "papermill": {
     "duration": 0.04707,
     "end_time": "2024-02-02T03:24:30.942914",
     "exception": false,
     "start_time": "2024-02-02T03:24:30.895844",
     "status": "completed"
    },
    "tags": []
   },
   "outputs": [
    {
     "name": "stdout",
     "output_type": "stream",
     "text": [
      "0    165034\n",
      "1    165035\n",
      "2    165036\n",
      "3    165037\n",
      "4    165038\n",
      "5    165039\n",
      "6    165040\n",
      "7    165041\n",
      "8    165042\n",
      "9    165043\n",
      "Name: id, dtype: int64\n"
     ]
    }
   ],
   "source": [
    "# we wull have to convert Tenure, IsActiveMember, NumOfProducts, HasCrCard  to categorical\n",
    "# drop id, CustomerId, Surname\n",
    "# Geography, Gender already are objects\n",
    "trainX.drop(['id', 'CustomerId', 'Surname'], axis=1, inplace=True)\n",
    "\n",
    "test_id = testX['id']\n",
    "print(test_id[:10])\n",
    "\n",
    "# drop id column from test_dataset\n",
    "testX.drop(['id', 'CustomerId', 'Surname'], axis=1, inplace=True)"
   ]
  },
  {
   "cell_type": "code",
   "execution_count": 10,
   "id": "760364fb",
   "metadata": {
    "execution": {
     "iopub.execute_input": "2024-02-02T03:24:30.986006Z",
     "iopub.status.busy": "2024-02-02T03:24:30.985613Z",
     "iopub.status.idle": "2024-02-02T03:24:31.039572Z",
     "shell.execute_reply": "2024-02-02T03:24:31.038489Z"
    },
    "papermill": {
     "duration": 0.078642,
     "end_time": "2024-02-02T03:24:31.042237",
     "exception": false,
     "start_time": "2024-02-02T03:24:30.963595",
     "status": "completed"
    },
    "tags": []
   },
   "outputs": [],
   "source": [
    "trainX.Tenure = trainX.Tenure.astype('category')\n",
    "trainX.Geography = trainX.Geography.astype('category')\n",
    "trainX.Gender = trainX.Gender.astype('category')\n",
    "trainX.NumOfProducts = trainX.NumOfProducts.astype('category')\n",
    "trainX.HasCrCard      = trainX.HasCrCard.astype('category')\n",
    "trainX.IsActiveMember = trainX.IsActiveMember.astype('category')"
   ]
  },
  {
   "cell_type": "code",
   "execution_count": 11,
   "id": "b9e7d07d",
   "metadata": {
    "execution": {
     "iopub.execute_input": "2024-02-02T03:24:31.084795Z",
     "iopub.status.busy": "2024-02-02T03:24:31.084372Z",
     "iopub.status.idle": "2024-02-02T03:24:31.123939Z",
     "shell.execute_reply": "2024-02-02T03:24:31.122819Z"
    },
    "papermill": {
     "duration": 0.063966,
     "end_time": "2024-02-02T03:24:31.126669",
     "exception": false,
     "start_time": "2024-02-02T03:24:31.062703",
     "status": "completed"
    },
    "tags": []
   },
   "outputs": [],
   "source": [
    "testX.Tenure = testX.Tenure.astype('category')\n",
    "testX.Geography = testX.Geography.astype('category')\n",
    "testX.Gender = testX.Gender.astype('category')\n",
    "testX.NumOfProducts = testX.NumOfProducts.astype('category')\n",
    "testX.HasCrCard      = testX.HasCrCard.astype('category')\n",
    "testX.IsActiveMember = testX.IsActiveMember.astype('category')"
   ]
  },
  {
   "cell_type": "code",
   "execution_count": 12,
   "id": "945a3649",
   "metadata": {
    "execution": {
     "iopub.execute_input": "2024-02-02T03:24:31.171006Z",
     "iopub.status.busy": "2024-02-02T03:24:31.169933Z",
     "iopub.status.idle": "2024-02-02T03:24:31.200729Z",
     "shell.execute_reply": "2024-02-02T03:24:31.199274Z"
    },
    "papermill": {
     "duration": 0.056252,
     "end_time": "2024-02-02T03:24:31.203132",
     "exception": false,
     "start_time": "2024-02-02T03:24:31.146880",
     "status": "completed"
    },
    "tags": []
   },
   "outputs": [
    {
     "name": "stdout",
     "output_type": "stream",
     "text": [
      "<class 'pandas.core.frame.DataFrame'>\n",
      "RangeIndex: 165034 entries, 0 to 165033\n",
      "Data columns (total 10 columns):\n",
      " #   Column           Non-Null Count   Dtype   \n",
      "---  ------           --------------   -----   \n",
      " 0   CreditScore      165034 non-null  int64   \n",
      " 1   Geography        165034 non-null  category\n",
      " 2   Gender           165034 non-null  category\n",
      " 3   Age              165034 non-null  float64 \n",
      " 4   Tenure           165034 non-null  category\n",
      " 5   Balance          165034 non-null  float64 \n",
      " 6   NumOfProducts    165034 non-null  category\n",
      " 7   HasCrCard        165034 non-null  category\n",
      " 8   IsActiveMember   165034 non-null  category\n",
      " 9   EstimatedSalary  165034 non-null  float64 \n",
      "dtypes: category(6), float64(3), int64(1)\n",
      "memory usage: 6.0 MB\n",
      "<class 'pandas.core.frame.DataFrame'>\n",
      "RangeIndex: 110023 entries, 0 to 110022\n",
      "Data columns (total 10 columns):\n",
      " #   Column           Non-Null Count   Dtype   \n",
      "---  ------           --------------   -----   \n",
      " 0   CreditScore      110023 non-null  int64   \n",
      " 1   Geography        110023 non-null  category\n",
      " 2   Gender           110023 non-null  category\n",
      " 3   Age              110023 non-null  float64 \n",
      " 4   Tenure           110023 non-null  category\n",
      " 5   Balance          110023 non-null  float64 \n",
      " 6   NumOfProducts    110023 non-null  category\n",
      " 7   HasCrCard        110023 non-null  category\n",
      " 8   IsActiveMember   110023 non-null  category\n",
      " 9   EstimatedSalary  110023 non-null  float64 \n",
      "dtypes: category(6), float64(3), int64(1)\n",
      "memory usage: 4.0 MB\n"
     ]
    },
    {
     "data": {
      "text/plain": [
       "(None, None)"
      ]
     },
     "execution_count": 12,
     "metadata": {},
     "output_type": "execute_result"
    }
   ],
   "source": [
    "trainX.info(), testX.info()"
   ]
  },
  {
   "cell_type": "code",
   "execution_count": 13,
   "id": "719a04b4",
   "metadata": {
    "execution": {
     "iopub.execute_input": "2024-02-02T03:24:31.246827Z",
     "iopub.status.busy": "2024-02-02T03:24:31.246446Z",
     "iopub.status.idle": "2024-02-02T03:24:31.267976Z",
     "shell.execute_reply": "2024-02-02T03:24:31.266889Z"
    },
    "papermill": {
     "duration": 0.046511,
     "end_time": "2024-02-02T03:24:31.270636",
     "exception": false,
     "start_time": "2024-02-02T03:24:31.224125",
     "status": "completed"
    },
    "tags": []
   },
   "outputs": [
    {
     "data": {
      "text/html": [
       "<div>\n",
       "<style scoped>\n",
       "    .dataframe tbody tr th:only-of-type {\n",
       "        vertical-align: middle;\n",
       "    }\n",
       "\n",
       "    .dataframe tbody tr th {\n",
       "        vertical-align: top;\n",
       "    }\n",
       "\n",
       "    .dataframe thead th {\n",
       "        text-align: right;\n",
       "    }\n",
       "</style>\n",
       "<table border=\"1\" class=\"dataframe\">\n",
       "  <thead>\n",
       "    <tr style=\"text-align: right;\">\n",
       "      <th></th>\n",
       "      <th>CreditScore</th>\n",
       "      <th>Geography</th>\n",
       "      <th>Gender</th>\n",
       "      <th>Age</th>\n",
       "      <th>Tenure</th>\n",
       "      <th>Balance</th>\n",
       "      <th>NumOfProducts</th>\n",
       "      <th>HasCrCard</th>\n",
       "      <th>IsActiveMember</th>\n",
       "      <th>EstimatedSalary</th>\n",
       "    </tr>\n",
       "  </thead>\n",
       "  <tbody>\n",
       "    <tr>\n",
       "      <th>0</th>\n",
       "      <td>668</td>\n",
       "      <td>France</td>\n",
       "      <td>Male</td>\n",
       "      <td>33.0</td>\n",
       "      <td>3</td>\n",
       "      <td>0.00</td>\n",
       "      <td>2</td>\n",
       "      <td>1.0</td>\n",
       "      <td>0.0</td>\n",
       "      <td>181449.97</td>\n",
       "    </tr>\n",
       "    <tr>\n",
       "      <th>1</th>\n",
       "      <td>627</td>\n",
       "      <td>France</td>\n",
       "      <td>Male</td>\n",
       "      <td>33.0</td>\n",
       "      <td>1</td>\n",
       "      <td>0.00</td>\n",
       "      <td>2</td>\n",
       "      <td>1.0</td>\n",
       "      <td>1.0</td>\n",
       "      <td>49503.50</td>\n",
       "    </tr>\n",
       "    <tr>\n",
       "      <th>2</th>\n",
       "      <td>678</td>\n",
       "      <td>France</td>\n",
       "      <td>Male</td>\n",
       "      <td>40.0</td>\n",
       "      <td>10</td>\n",
       "      <td>0.00</td>\n",
       "      <td>2</td>\n",
       "      <td>1.0</td>\n",
       "      <td>0.0</td>\n",
       "      <td>184866.69</td>\n",
       "    </tr>\n",
       "    <tr>\n",
       "      <th>3</th>\n",
       "      <td>581</td>\n",
       "      <td>France</td>\n",
       "      <td>Male</td>\n",
       "      <td>34.0</td>\n",
       "      <td>2</td>\n",
       "      <td>148882.54</td>\n",
       "      <td>1</td>\n",
       "      <td>1.0</td>\n",
       "      <td>1.0</td>\n",
       "      <td>84560.88</td>\n",
       "    </tr>\n",
       "    <tr>\n",
       "      <th>4</th>\n",
       "      <td>716</td>\n",
       "      <td>Spain</td>\n",
       "      <td>Male</td>\n",
       "      <td>33.0</td>\n",
       "      <td>5</td>\n",
       "      <td>0.00</td>\n",
       "      <td>2</td>\n",
       "      <td>1.0</td>\n",
       "      <td>1.0</td>\n",
       "      <td>15068.83</td>\n",
       "    </tr>\n",
       "  </tbody>\n",
       "</table>\n",
       "</div>"
      ],
      "text/plain": [
       "   CreditScore Geography Gender   Age Tenure    Balance NumOfProducts  \\\n",
       "0          668    France   Male  33.0      3       0.00             2   \n",
       "1          627    France   Male  33.0      1       0.00             2   \n",
       "2          678    France   Male  40.0     10       0.00             2   \n",
       "3          581    France   Male  34.0      2  148882.54             1   \n",
       "4          716     Spain   Male  33.0      5       0.00             2   \n",
       "\n",
       "  HasCrCard IsActiveMember  EstimatedSalary  \n",
       "0       1.0            0.0        181449.97  \n",
       "1       1.0            1.0         49503.50  \n",
       "2       1.0            0.0        184866.69  \n",
       "3       1.0            1.0         84560.88  \n",
       "4       1.0            1.0         15068.83  "
      ]
     },
     "execution_count": 13,
     "metadata": {},
     "output_type": "execute_result"
    }
   ],
   "source": [
    "trainX.head()"
   ]
  },
  {
   "cell_type": "code",
   "execution_count": 14,
   "id": "ae157abb",
   "metadata": {
    "execution": {
     "iopub.execute_input": "2024-02-02T03:24:31.313502Z",
     "iopub.status.busy": "2024-02-02T03:24:31.313115Z",
     "iopub.status.idle": "2024-02-02T03:24:31.332638Z",
     "shell.execute_reply": "2024-02-02T03:24:31.331417Z"
    },
    "papermill": {
     "duration": 0.044176,
     "end_time": "2024-02-02T03:24:31.335420",
     "exception": false,
     "start_time": "2024-02-02T03:24:31.291244",
     "status": "completed"
    },
    "tags": []
   },
   "outputs": [
    {
     "data": {
      "text/html": [
       "<div>\n",
       "<style scoped>\n",
       "    .dataframe tbody tr th:only-of-type {\n",
       "        vertical-align: middle;\n",
       "    }\n",
       "\n",
       "    .dataframe tbody tr th {\n",
       "        vertical-align: top;\n",
       "    }\n",
       "\n",
       "    .dataframe thead th {\n",
       "        text-align: right;\n",
       "    }\n",
       "</style>\n",
       "<table border=\"1\" class=\"dataframe\">\n",
       "  <thead>\n",
       "    <tr style=\"text-align: right;\">\n",
       "      <th></th>\n",
       "      <th>CreditScore</th>\n",
       "      <th>Geography</th>\n",
       "      <th>Gender</th>\n",
       "      <th>Age</th>\n",
       "      <th>Tenure</th>\n",
       "      <th>Balance</th>\n",
       "      <th>NumOfProducts</th>\n",
       "      <th>HasCrCard</th>\n",
       "      <th>IsActiveMember</th>\n",
       "      <th>EstimatedSalary</th>\n",
       "    </tr>\n",
       "  </thead>\n",
       "  <tbody>\n",
       "    <tr>\n",
       "      <th>0</th>\n",
       "      <td>586</td>\n",
       "      <td>France</td>\n",
       "      <td>Female</td>\n",
       "      <td>23.0</td>\n",
       "      <td>2</td>\n",
       "      <td>0.00</td>\n",
       "      <td>2</td>\n",
       "      <td>0.0</td>\n",
       "      <td>1.0</td>\n",
       "      <td>160976.75</td>\n",
       "    </tr>\n",
       "    <tr>\n",
       "      <th>1</th>\n",
       "      <td>683</td>\n",
       "      <td>France</td>\n",
       "      <td>Female</td>\n",
       "      <td>46.0</td>\n",
       "      <td>2</td>\n",
       "      <td>0.00</td>\n",
       "      <td>1</td>\n",
       "      <td>1.0</td>\n",
       "      <td>0.0</td>\n",
       "      <td>72549.27</td>\n",
       "    </tr>\n",
       "    <tr>\n",
       "      <th>2</th>\n",
       "      <td>656</td>\n",
       "      <td>France</td>\n",
       "      <td>Female</td>\n",
       "      <td>34.0</td>\n",
       "      <td>7</td>\n",
       "      <td>0.00</td>\n",
       "      <td>2</td>\n",
       "      <td>1.0</td>\n",
       "      <td>0.0</td>\n",
       "      <td>138882.09</td>\n",
       "    </tr>\n",
       "    <tr>\n",
       "      <th>3</th>\n",
       "      <td>681</td>\n",
       "      <td>France</td>\n",
       "      <td>Male</td>\n",
       "      <td>36.0</td>\n",
       "      <td>8</td>\n",
       "      <td>0.00</td>\n",
       "      <td>1</td>\n",
       "      <td>1.0</td>\n",
       "      <td>0.0</td>\n",
       "      <td>113931.57</td>\n",
       "    </tr>\n",
       "    <tr>\n",
       "      <th>4</th>\n",
       "      <td>752</td>\n",
       "      <td>Germany</td>\n",
       "      <td>Male</td>\n",
       "      <td>38.0</td>\n",
       "      <td>10</td>\n",
       "      <td>121263.62</td>\n",
       "      <td>1</td>\n",
       "      <td>1.0</td>\n",
       "      <td>0.0</td>\n",
       "      <td>139431.00</td>\n",
       "    </tr>\n",
       "  </tbody>\n",
       "</table>\n",
       "</div>"
      ],
      "text/plain": [
       "   CreditScore Geography  Gender   Age Tenure    Balance NumOfProducts  \\\n",
       "0          586    France  Female  23.0      2       0.00             2   \n",
       "1          683    France  Female  46.0      2       0.00             1   \n",
       "2          656    France  Female  34.0      7       0.00             2   \n",
       "3          681    France    Male  36.0      8       0.00             1   \n",
       "4          752   Germany    Male  38.0     10  121263.62             1   \n",
       "\n",
       "  HasCrCard IsActiveMember  EstimatedSalary  \n",
       "0       0.0            1.0        160976.75  \n",
       "1       1.0            0.0         72549.27  \n",
       "2       1.0            0.0        138882.09  \n",
       "3       1.0            0.0        113931.57  \n",
       "4       1.0            0.0        139431.00  "
      ]
     },
     "execution_count": 14,
     "metadata": {},
     "output_type": "execute_result"
    }
   ],
   "source": [
    "testX.head()"
   ]
  },
  {
   "cell_type": "markdown",
   "id": "ea717140",
   "metadata": {
    "papermill": {
     "duration": 0.020697,
     "end_time": "2024-02-02T03:24:31.377911",
     "exception": false,
     "start_time": "2024-02-02T03:24:31.357214",
     "status": "completed"
    },
    "tags": []
   },
   "source": [
    "## Convert categorical and numeric columns to continue with EDA\n",
    "1. to one-hot\n",
    "2. numerical columns to have mean of '0' and variance of '1'"
   ]
  },
  {
   "cell_type": "code",
   "execution_count": 15,
   "id": "8c8c9e55",
   "metadata": {
    "execution": {
     "iopub.execute_input": "2024-02-02T03:24:31.422581Z",
     "iopub.status.busy": "2024-02-02T03:24:31.421867Z",
     "iopub.status.idle": "2024-02-02T03:24:33.535552Z",
     "shell.execute_reply": "2024-02-02T03:24:33.534381Z"
    },
    "papermill": {
     "duration": 2.139618,
     "end_time": "2024-02-02T03:24:33.538883",
     "exception": false,
     "start_time": "2024-02-02T03:24:31.399265",
     "status": "completed"
    },
    "tags": []
   },
   "outputs": [],
   "source": [
    "from sklearn.preprocessing import LabelBinarizer, LabelEncoder\n",
    "# https://pieriantraining.com/complete-guide-to-feature-scaling-in-scikit-learn/\n",
    "# https://scikit-learn.org/stable/modules/preprocessing.html#scaling-features-to-a-range\n",
    "from sklearn.preprocessing import MinMaxScaler, StandardScaler, RobustScaler, MaxAbsScaler\n",
    "\n",
    "from sklearn.model_selection import train_test_split\n",
    "import matplotlib.pyplot as plt\n",
    "import seaborn as sns\n",
    "%matplotlib inline\n",
    "\n",
    "from sklearn.metrics import make_scorer, accuracy_score\n",
    "from bayes_opt import BayesianOptimization\n",
    "from sklearn.model_selection import StratifiedKFold, GridSearchCV, RandomizedSearchCV\n",
    "\n",
    "from sklearn.model_selection import cross_val_score\n",
    "from math import floor\n",
    "score_acc = make_scorer(accuracy_score)"
   ]
  },
  {
   "cell_type": "code",
   "execution_count": 16,
   "id": "8c8eddf7",
   "metadata": {
    "execution": {
     "iopub.execute_input": "2024-02-02T03:24:33.591946Z",
     "iopub.status.busy": "2024-02-02T03:24:33.591203Z",
     "iopub.status.idle": "2024-02-02T03:24:33.679601Z",
     "shell.execute_reply": "2024-02-02T03:24:33.678065Z"
    },
    "papermill": {
     "duration": 0.115262,
     "end_time": "2024-02-02T03:24:33.682497",
     "exception": false,
     "start_time": "2024-02-02T03:24:33.567235",
     "status": "completed"
    },
    "tags": []
   },
   "outputs": [
    {
     "name": "stdout",
     "output_type": "stream",
     "text": [
      "['CreditScore', 'Age', 'Balance', 'EstimatedSalary']\n"
     ]
    }
   ],
   "source": [
    "# this code bit from \n",
    "# https://stephenallwright.com/scale-columns-traing-score/\n",
    "columns_list = list(trainX.describe(exclude='category'))\n",
    "print(columns_list)\n",
    "def scale_columns(df, columns, scalers):\n",
    "    if scalers is None:\n",
    "        scalers = {}\n",
    "        for col in columns:\n",
    "            scaler = MinMaxScaler().fit(df[[col]])\n",
    "            df[col] = scaler.transform(df[[col]])\n",
    "            scalers[col] = scaler\n",
    "    else:\n",
    "        for col in columns:\n",
    "            scaler = scalers.get(col)\n",
    "            df[col] = scaler.transform(df[[col]])\n",
    "    return df, scalers\n",
    "\n",
    "trainX,scalers = scale_columns(trainX,columns=columns_list,scalers=None)\n",
    "testX,scalers = scale_columns(testX,columns=columns_list,scalers=scalers)"
   ]
  },
  {
   "cell_type": "code",
   "execution_count": 17,
   "id": "6e19931c",
   "metadata": {
    "execution": {
     "iopub.execute_input": "2024-02-02T03:24:33.789501Z",
     "iopub.status.busy": "2024-02-02T03:24:33.788638Z",
     "iopub.status.idle": "2024-02-02T03:24:33.808917Z",
     "shell.execute_reply": "2024-02-02T03:24:33.808122Z"
    },
    "papermill": {
     "duration": 0.106731,
     "end_time": "2024-02-02T03:24:33.811063",
     "exception": false,
     "start_time": "2024-02-02T03:24:33.704332",
     "status": "completed"
    },
    "tags": []
   },
   "outputs": [
    {
     "data": {
      "text/html": [
       "<div>\n",
       "<style scoped>\n",
       "    .dataframe tbody tr th:only-of-type {\n",
       "        vertical-align: middle;\n",
       "    }\n",
       "\n",
       "    .dataframe tbody tr th {\n",
       "        vertical-align: top;\n",
       "    }\n",
       "\n",
       "    .dataframe thead th {\n",
       "        text-align: right;\n",
       "    }\n",
       "</style>\n",
       "<table border=\"1\" class=\"dataframe\">\n",
       "  <thead>\n",
       "    <tr style=\"text-align: right;\">\n",
       "      <th></th>\n",
       "      <th>CreditScore</th>\n",
       "      <th>Geography</th>\n",
       "      <th>Gender</th>\n",
       "      <th>Age</th>\n",
       "      <th>Tenure</th>\n",
       "      <th>Balance</th>\n",
       "      <th>NumOfProducts</th>\n",
       "      <th>HasCrCard</th>\n",
       "      <th>IsActiveMember</th>\n",
       "      <th>EstimatedSalary</th>\n",
       "    </tr>\n",
       "  </thead>\n",
       "  <tbody>\n",
       "    <tr>\n",
       "      <th>0</th>\n",
       "      <td>0.636</td>\n",
       "      <td>France</td>\n",
       "      <td>Male</td>\n",
       "      <td>0.202703</td>\n",
       "      <td>3</td>\n",
       "      <td>0.000000</td>\n",
       "      <td>2</td>\n",
       "      <td>1.0</td>\n",
       "      <td>0.0</td>\n",
       "      <td>0.907279</td>\n",
       "    </tr>\n",
       "    <tr>\n",
       "      <th>1</th>\n",
       "      <td>0.554</td>\n",
       "      <td>France</td>\n",
       "      <td>Male</td>\n",
       "      <td>0.202703</td>\n",
       "      <td>1</td>\n",
       "      <td>0.000000</td>\n",
       "      <td>2</td>\n",
       "      <td>1.0</td>\n",
       "      <td>1.0</td>\n",
       "      <td>0.247483</td>\n",
       "    </tr>\n",
       "    <tr>\n",
       "      <th>2</th>\n",
       "      <td>0.656</td>\n",
       "      <td>France</td>\n",
       "      <td>Male</td>\n",
       "      <td>0.297297</td>\n",
       "      <td>10</td>\n",
       "      <td>0.000000</td>\n",
       "      <td>2</td>\n",
       "      <td>1.0</td>\n",
       "      <td>0.0</td>\n",
       "      <td>0.924364</td>\n",
       "    </tr>\n",
       "    <tr>\n",
       "      <th>3</th>\n",
       "      <td>0.462</td>\n",
       "      <td>France</td>\n",
       "      <td>Male</td>\n",
       "      <td>0.216216</td>\n",
       "      <td>2</td>\n",
       "      <td>0.593398</td>\n",
       "      <td>1</td>\n",
       "      <td>1.0</td>\n",
       "      <td>1.0</td>\n",
       "      <td>0.422787</td>\n",
       "    </tr>\n",
       "    <tr>\n",
       "      <th>4</th>\n",
       "      <td>0.732</td>\n",
       "      <td>Spain</td>\n",
       "      <td>Male</td>\n",
       "      <td>0.202703</td>\n",
       "      <td>5</td>\n",
       "      <td>0.000000</td>\n",
       "      <td>2</td>\n",
       "      <td>1.0</td>\n",
       "      <td>1.0</td>\n",
       "      <td>0.075293</td>\n",
       "    </tr>\n",
       "  </tbody>\n",
       "</table>\n",
       "</div>"
      ],
      "text/plain": [
       "   CreditScore Geography Gender       Age Tenure   Balance NumOfProducts  \\\n",
       "0        0.636    France   Male  0.202703      3  0.000000             2   \n",
       "1        0.554    France   Male  0.202703      1  0.000000             2   \n",
       "2        0.656    France   Male  0.297297     10  0.000000             2   \n",
       "3        0.462    France   Male  0.216216      2  0.593398             1   \n",
       "4        0.732     Spain   Male  0.202703      5  0.000000             2   \n",
       "\n",
       "  HasCrCard IsActiveMember  EstimatedSalary  \n",
       "0       1.0            0.0         0.907279  \n",
       "1       1.0            1.0         0.247483  \n",
       "2       1.0            0.0         0.924364  \n",
       "3       1.0            1.0         0.422787  \n",
       "4       1.0            1.0         0.075293  "
      ]
     },
     "execution_count": 17,
     "metadata": {},
     "output_type": "execute_result"
    }
   ],
   "source": [
    "trainX.head()"
   ]
  },
  {
   "cell_type": "code",
   "execution_count": 18,
   "id": "2f2d6908",
   "metadata": {
    "execution": {
     "iopub.execute_input": "2024-02-02T03:24:33.855353Z",
     "iopub.status.busy": "2024-02-02T03:24:33.854918Z",
     "iopub.status.idle": "2024-02-02T03:24:33.874986Z",
     "shell.execute_reply": "2024-02-02T03:24:33.873728Z"
    },
    "papermill": {
     "duration": 0.045333,
     "end_time": "2024-02-02T03:24:33.877778",
     "exception": false,
     "start_time": "2024-02-02T03:24:33.832445",
     "status": "completed"
    },
    "tags": []
   },
   "outputs": [
    {
     "data": {
      "text/html": [
       "<div>\n",
       "<style scoped>\n",
       "    .dataframe tbody tr th:only-of-type {\n",
       "        vertical-align: middle;\n",
       "    }\n",
       "\n",
       "    .dataframe tbody tr th {\n",
       "        vertical-align: top;\n",
       "    }\n",
       "\n",
       "    .dataframe thead th {\n",
       "        text-align: right;\n",
       "    }\n",
       "</style>\n",
       "<table border=\"1\" class=\"dataframe\">\n",
       "  <thead>\n",
       "    <tr style=\"text-align: right;\">\n",
       "      <th></th>\n",
       "      <th>CreditScore</th>\n",
       "      <th>Geography</th>\n",
       "      <th>Gender</th>\n",
       "      <th>Age</th>\n",
       "      <th>Tenure</th>\n",
       "      <th>Balance</th>\n",
       "      <th>NumOfProducts</th>\n",
       "      <th>HasCrCard</th>\n",
       "      <th>IsActiveMember</th>\n",
       "      <th>EstimatedSalary</th>\n",
       "    </tr>\n",
       "  </thead>\n",
       "  <tbody>\n",
       "    <tr>\n",
       "      <th>0</th>\n",
       "      <td>0.472</td>\n",
       "      <td>France</td>\n",
       "      <td>Female</td>\n",
       "      <td>0.067568</td>\n",
       "      <td>2</td>\n",
       "      <td>0.000000</td>\n",
       "      <td>2</td>\n",
       "      <td>0.0</td>\n",
       "      <td>1.0</td>\n",
       "      <td>0.804903</td>\n",
       "    </tr>\n",
       "    <tr>\n",
       "      <th>1</th>\n",
       "      <td>0.666</td>\n",
       "      <td>France</td>\n",
       "      <td>Female</td>\n",
       "      <td>0.378378</td>\n",
       "      <td>2</td>\n",
       "      <td>0.000000</td>\n",
       "      <td>1</td>\n",
       "      <td>1.0</td>\n",
       "      <td>0.0</td>\n",
       "      <td>0.362723</td>\n",
       "    </tr>\n",
       "    <tr>\n",
       "      <th>2</th>\n",
       "      <td>0.612</td>\n",
       "      <td>France</td>\n",
       "      <td>Female</td>\n",
       "      <td>0.216216</td>\n",
       "      <td>7</td>\n",
       "      <td>0.000000</td>\n",
       "      <td>2</td>\n",
       "      <td>1.0</td>\n",
       "      <td>0.0</td>\n",
       "      <td>0.694419</td>\n",
       "    </tr>\n",
       "    <tr>\n",
       "      <th>3</th>\n",
       "      <td>0.662</td>\n",
       "      <td>France</td>\n",
       "      <td>Male</td>\n",
       "      <td>0.243243</td>\n",
       "      <td>8</td>\n",
       "      <td>0.000000</td>\n",
       "      <td>1</td>\n",
       "      <td>1.0</td>\n",
       "      <td>0.0</td>\n",
       "      <td>0.569654</td>\n",
       "    </tr>\n",
       "    <tr>\n",
       "      <th>4</th>\n",
       "      <td>0.804</td>\n",
       "      <td>Germany</td>\n",
       "      <td>Male</td>\n",
       "      <td>0.270270</td>\n",
       "      <td>10</td>\n",
       "      <td>0.483318</td>\n",
       "      <td>1</td>\n",
       "      <td>1.0</td>\n",
       "      <td>0.0</td>\n",
       "      <td>0.697164</td>\n",
       "    </tr>\n",
       "  </tbody>\n",
       "</table>\n",
       "</div>"
      ],
      "text/plain": [
       "   CreditScore Geography  Gender       Age Tenure   Balance NumOfProducts  \\\n",
       "0        0.472    France  Female  0.067568      2  0.000000             2   \n",
       "1        0.666    France  Female  0.378378      2  0.000000             1   \n",
       "2        0.612    France  Female  0.216216      7  0.000000             2   \n",
       "3        0.662    France    Male  0.243243      8  0.000000             1   \n",
       "4        0.804   Germany    Male  0.270270     10  0.483318             1   \n",
       "\n",
       "  HasCrCard IsActiveMember  EstimatedSalary  \n",
       "0       0.0            1.0         0.804903  \n",
       "1       1.0            0.0         0.362723  \n",
       "2       1.0            0.0         0.694419  \n",
       "3       1.0            0.0         0.569654  \n",
       "4       1.0            0.0         0.697164  "
      ]
     },
     "execution_count": 18,
     "metadata": {},
     "output_type": "execute_result"
    }
   ],
   "source": [
    "testX.head()"
   ]
  },
  {
   "cell_type": "code",
   "execution_count": 19,
   "id": "8b35525b",
   "metadata": {
    "execution": {
     "iopub.execute_input": "2024-02-02T03:24:33.923021Z",
     "iopub.status.busy": "2024-02-02T03:24:33.922596Z",
     "iopub.status.idle": "2024-02-02T03:24:33.930416Z",
     "shell.execute_reply": "2024-02-02T03:24:33.929138Z"
    },
    "papermill": {
     "duration": 0.033064,
     "end_time": "2024-02-02T03:24:33.932709",
     "exception": false,
     "start_time": "2024-02-02T03:24:33.899645",
     "status": "completed"
    },
    "tags": []
   },
   "outputs": [
    {
     "data": {
      "text/plain": [
       "((165034, 10), (110023, 10))"
      ]
     },
     "execution_count": 19,
     "metadata": {},
     "output_type": "execute_result"
    }
   ],
   "source": [
    "trainX.shape, testX.shape"
   ]
  },
  {
   "cell_type": "code",
   "execution_count": 20,
   "id": "854c66d0",
   "metadata": {
    "execution": {
     "iopub.execute_input": "2024-02-02T03:24:33.979041Z",
     "iopub.status.busy": "2024-02-02T03:24:33.978586Z",
     "iopub.status.idle": "2024-02-02T03:24:34.039028Z",
     "shell.execute_reply": "2024-02-02T03:24:34.037686Z"
    },
    "papermill": {
     "duration": 0.087715,
     "end_time": "2024-02-02T03:24:34.042277",
     "exception": false,
     "start_time": "2024-02-02T03:24:33.954562",
     "status": "completed"
    },
    "tags": []
   },
   "outputs": [],
   "source": [
    "testX = pd.get_dummies(testX)\n",
    "trainX = pd.get_dummies(trainX)"
   ]
  },
  {
   "cell_type": "code",
   "execution_count": 21,
   "id": "e405e52a",
   "metadata": {
    "execution": {
     "iopub.execute_input": "2024-02-02T03:24:34.087600Z",
     "iopub.status.busy": "2024-02-02T03:24:34.087143Z",
     "iopub.status.idle": "2024-02-02T03:24:34.094623Z",
     "shell.execute_reply": "2024-02-02T03:24:34.093503Z"
    },
    "papermill": {
     "duration": 0.03289,
     "end_time": "2024-02-02T03:24:34.097073",
     "exception": false,
     "start_time": "2024-02-02T03:24:34.064183",
     "status": "completed"
    },
    "tags": []
   },
   "outputs": [
    {
     "data": {
      "text/plain": [
       "((165034, 28), (110023, 28))"
      ]
     },
     "execution_count": 21,
     "metadata": {},
     "output_type": "execute_result"
    }
   ],
   "source": [
    "trainX.shape, testX.shape"
   ]
  },
  {
   "cell_type": "code",
   "execution_count": 22,
   "id": "17228e77",
   "metadata": {
    "execution": {
     "iopub.execute_input": "2024-02-02T03:24:34.142898Z",
     "iopub.status.busy": "2024-02-02T03:24:34.142472Z",
     "iopub.status.idle": "2024-02-02T03:24:38.633730Z",
     "shell.execute_reply": "2024-02-02T03:24:38.631687Z"
    },
    "papermill": {
     "duration": 4.517872,
     "end_time": "2024-02-02T03:24:38.637130",
     "exception": false,
     "start_time": "2024-02-02T03:24:34.119258",
     "status": "completed"
    },
    "tags": []
   },
   "outputs": [],
   "source": [
    "# convert True -> 1 and False to 0\n",
    "trainX = trainX.replace({True: 1, False: 0})\n",
    "testX = testX.replace({True: 1, False: 0})"
   ]
  },
  {
   "cell_type": "code",
   "execution_count": 23,
   "id": "fda66ee0",
   "metadata": {
    "execution": {
     "iopub.execute_input": "2024-02-02T03:24:38.686444Z",
     "iopub.status.busy": "2024-02-02T03:24:38.685988Z",
     "iopub.status.idle": "2024-02-02T03:24:38.710837Z",
     "shell.execute_reply": "2024-02-02T03:24:38.709609Z"
    },
    "papermill": {
     "duration": 0.052166,
     "end_time": "2024-02-02T03:24:38.713450",
     "exception": false,
     "start_time": "2024-02-02T03:24:38.661284",
     "status": "completed"
    },
    "tags": []
   },
   "outputs": [
    {
     "data": {
      "text/html": [
       "<div>\n",
       "<style scoped>\n",
       "    .dataframe tbody tr th:only-of-type {\n",
       "        vertical-align: middle;\n",
       "    }\n",
       "\n",
       "    .dataframe tbody tr th {\n",
       "        vertical-align: top;\n",
       "    }\n",
       "\n",
       "    .dataframe thead th {\n",
       "        text-align: right;\n",
       "    }\n",
       "</style>\n",
       "<table border=\"1\" class=\"dataframe\">\n",
       "  <thead>\n",
       "    <tr style=\"text-align: right;\">\n",
       "      <th></th>\n",
       "      <th>CreditScore</th>\n",
       "      <th>Age</th>\n",
       "      <th>Balance</th>\n",
       "      <th>EstimatedSalary</th>\n",
       "      <th>Geography_France</th>\n",
       "      <th>Geography_Germany</th>\n",
       "      <th>Geography_Spain</th>\n",
       "      <th>Gender_Female</th>\n",
       "      <th>Gender_Male</th>\n",
       "      <th>Tenure_0</th>\n",
       "      <th>Tenure_1</th>\n",
       "      <th>Tenure_2</th>\n",
       "      <th>Tenure_3</th>\n",
       "      <th>Tenure_4</th>\n",
       "      <th>Tenure_5</th>\n",
       "      <th>Tenure_6</th>\n",
       "      <th>Tenure_7</th>\n",
       "      <th>Tenure_8</th>\n",
       "      <th>Tenure_9</th>\n",
       "      <th>Tenure_10</th>\n",
       "      <th>NumOfProducts_1</th>\n",
       "      <th>NumOfProducts_2</th>\n",
       "      <th>NumOfProducts_3</th>\n",
       "      <th>NumOfProducts_4</th>\n",
       "      <th>HasCrCard_0.0</th>\n",
       "      <th>HasCrCard_1.0</th>\n",
       "      <th>IsActiveMember_0.0</th>\n",
       "      <th>IsActiveMember_1.0</th>\n",
       "    </tr>\n",
       "  </thead>\n",
       "  <tbody>\n",
       "    <tr>\n",
       "      <th>0</th>\n",
       "      <td>0.636</td>\n",
       "      <td>0.202703</td>\n",
       "      <td>0.000000</td>\n",
       "      <td>0.907279</td>\n",
       "      <td>1</td>\n",
       "      <td>0</td>\n",
       "      <td>0</td>\n",
       "      <td>0</td>\n",
       "      <td>1</td>\n",
       "      <td>0</td>\n",
       "      <td>0</td>\n",
       "      <td>0</td>\n",
       "      <td>1</td>\n",
       "      <td>0</td>\n",
       "      <td>0</td>\n",
       "      <td>0</td>\n",
       "      <td>0</td>\n",
       "      <td>0</td>\n",
       "      <td>0</td>\n",
       "      <td>0</td>\n",
       "      <td>0</td>\n",
       "      <td>1</td>\n",
       "      <td>0</td>\n",
       "      <td>0</td>\n",
       "      <td>0</td>\n",
       "      <td>1</td>\n",
       "      <td>1</td>\n",
       "      <td>0</td>\n",
       "    </tr>\n",
       "    <tr>\n",
       "      <th>1</th>\n",
       "      <td>0.554</td>\n",
       "      <td>0.202703</td>\n",
       "      <td>0.000000</td>\n",
       "      <td>0.247483</td>\n",
       "      <td>1</td>\n",
       "      <td>0</td>\n",
       "      <td>0</td>\n",
       "      <td>0</td>\n",
       "      <td>1</td>\n",
       "      <td>0</td>\n",
       "      <td>1</td>\n",
       "      <td>0</td>\n",
       "      <td>0</td>\n",
       "      <td>0</td>\n",
       "      <td>0</td>\n",
       "      <td>0</td>\n",
       "      <td>0</td>\n",
       "      <td>0</td>\n",
       "      <td>0</td>\n",
       "      <td>0</td>\n",
       "      <td>0</td>\n",
       "      <td>1</td>\n",
       "      <td>0</td>\n",
       "      <td>0</td>\n",
       "      <td>0</td>\n",
       "      <td>1</td>\n",
       "      <td>0</td>\n",
       "      <td>1</td>\n",
       "    </tr>\n",
       "    <tr>\n",
       "      <th>2</th>\n",
       "      <td>0.656</td>\n",
       "      <td>0.297297</td>\n",
       "      <td>0.000000</td>\n",
       "      <td>0.924364</td>\n",
       "      <td>1</td>\n",
       "      <td>0</td>\n",
       "      <td>0</td>\n",
       "      <td>0</td>\n",
       "      <td>1</td>\n",
       "      <td>0</td>\n",
       "      <td>0</td>\n",
       "      <td>0</td>\n",
       "      <td>0</td>\n",
       "      <td>0</td>\n",
       "      <td>0</td>\n",
       "      <td>0</td>\n",
       "      <td>0</td>\n",
       "      <td>0</td>\n",
       "      <td>0</td>\n",
       "      <td>1</td>\n",
       "      <td>0</td>\n",
       "      <td>1</td>\n",
       "      <td>0</td>\n",
       "      <td>0</td>\n",
       "      <td>0</td>\n",
       "      <td>1</td>\n",
       "      <td>1</td>\n",
       "      <td>0</td>\n",
       "    </tr>\n",
       "    <tr>\n",
       "      <th>3</th>\n",
       "      <td>0.462</td>\n",
       "      <td>0.216216</td>\n",
       "      <td>0.593398</td>\n",
       "      <td>0.422787</td>\n",
       "      <td>1</td>\n",
       "      <td>0</td>\n",
       "      <td>0</td>\n",
       "      <td>0</td>\n",
       "      <td>1</td>\n",
       "      <td>0</td>\n",
       "      <td>0</td>\n",
       "      <td>1</td>\n",
       "      <td>0</td>\n",
       "      <td>0</td>\n",
       "      <td>0</td>\n",
       "      <td>0</td>\n",
       "      <td>0</td>\n",
       "      <td>0</td>\n",
       "      <td>0</td>\n",
       "      <td>0</td>\n",
       "      <td>1</td>\n",
       "      <td>0</td>\n",
       "      <td>0</td>\n",
       "      <td>0</td>\n",
       "      <td>0</td>\n",
       "      <td>1</td>\n",
       "      <td>0</td>\n",
       "      <td>1</td>\n",
       "    </tr>\n",
       "    <tr>\n",
       "      <th>4</th>\n",
       "      <td>0.732</td>\n",
       "      <td>0.202703</td>\n",
       "      <td>0.000000</td>\n",
       "      <td>0.075293</td>\n",
       "      <td>0</td>\n",
       "      <td>0</td>\n",
       "      <td>1</td>\n",
       "      <td>0</td>\n",
       "      <td>1</td>\n",
       "      <td>0</td>\n",
       "      <td>0</td>\n",
       "      <td>0</td>\n",
       "      <td>0</td>\n",
       "      <td>0</td>\n",
       "      <td>1</td>\n",
       "      <td>0</td>\n",
       "      <td>0</td>\n",
       "      <td>0</td>\n",
       "      <td>0</td>\n",
       "      <td>0</td>\n",
       "      <td>0</td>\n",
       "      <td>1</td>\n",
       "      <td>0</td>\n",
       "      <td>0</td>\n",
       "      <td>0</td>\n",
       "      <td>1</td>\n",
       "      <td>0</td>\n",
       "      <td>1</td>\n",
       "    </tr>\n",
       "  </tbody>\n",
       "</table>\n",
       "</div>"
      ],
      "text/plain": [
       "   CreditScore       Age   Balance  EstimatedSalary  Geography_France  \\\n",
       "0        0.636  0.202703  0.000000         0.907279                 1   \n",
       "1        0.554  0.202703  0.000000         0.247483                 1   \n",
       "2        0.656  0.297297  0.000000         0.924364                 1   \n",
       "3        0.462  0.216216  0.593398         0.422787                 1   \n",
       "4        0.732  0.202703  0.000000         0.075293                 0   \n",
       "\n",
       "   Geography_Germany  Geography_Spain  Gender_Female  Gender_Male  Tenure_0  \\\n",
       "0                  0                0              0            1         0   \n",
       "1                  0                0              0            1         0   \n",
       "2                  0                0              0            1         0   \n",
       "3                  0                0              0            1         0   \n",
       "4                  0                1              0            1         0   \n",
       "\n",
       "   Tenure_1  Tenure_2  Tenure_3  Tenure_4  Tenure_5  Tenure_6  Tenure_7  \\\n",
       "0         0         0         1         0         0         0         0   \n",
       "1         1         0         0         0         0         0         0   \n",
       "2         0         0         0         0         0         0         0   \n",
       "3         0         1         0         0         0         0         0   \n",
       "4         0         0         0         0         1         0         0   \n",
       "\n",
       "   Tenure_8  Tenure_9  Tenure_10  NumOfProducts_1  NumOfProducts_2  \\\n",
       "0         0         0          0                0                1   \n",
       "1         0         0          0                0                1   \n",
       "2         0         0          1                0                1   \n",
       "3         0         0          0                1                0   \n",
       "4         0         0          0                0                1   \n",
       "\n",
       "   NumOfProducts_3  NumOfProducts_4  HasCrCard_0.0  HasCrCard_1.0  \\\n",
       "0                0                0              0              1   \n",
       "1                0                0              0              1   \n",
       "2                0                0              0              1   \n",
       "3                0                0              0              1   \n",
       "4                0                0              0              1   \n",
       "\n",
       "   IsActiveMember_0.0  IsActiveMember_1.0  \n",
       "0                   1                   0  \n",
       "1                   0                   1  \n",
       "2                   1                   0  \n",
       "3                   0                   1  \n",
       "4                   0                   1  "
      ]
     },
     "execution_count": 23,
     "metadata": {},
     "output_type": "execute_result"
    }
   ],
   "source": [
    "trainX.head()"
   ]
  },
  {
   "cell_type": "code",
   "execution_count": 24,
   "id": "66d01239",
   "metadata": {
    "execution": {
     "iopub.execute_input": "2024-02-02T03:24:38.766218Z",
     "iopub.status.busy": "2024-02-02T03:24:38.764954Z",
     "iopub.status.idle": "2024-02-02T03:24:38.789830Z",
     "shell.execute_reply": "2024-02-02T03:24:38.788754Z"
    },
    "papermill": {
     "duration": 0.053719,
     "end_time": "2024-02-02T03:24:38.792272",
     "exception": false,
     "start_time": "2024-02-02T03:24:38.738553",
     "status": "completed"
    },
    "tags": []
   },
   "outputs": [
    {
     "data": {
      "text/html": [
       "<div>\n",
       "<style scoped>\n",
       "    .dataframe tbody tr th:only-of-type {\n",
       "        vertical-align: middle;\n",
       "    }\n",
       "\n",
       "    .dataframe tbody tr th {\n",
       "        vertical-align: top;\n",
       "    }\n",
       "\n",
       "    .dataframe thead th {\n",
       "        text-align: right;\n",
       "    }\n",
       "</style>\n",
       "<table border=\"1\" class=\"dataframe\">\n",
       "  <thead>\n",
       "    <tr style=\"text-align: right;\">\n",
       "      <th></th>\n",
       "      <th>CreditScore</th>\n",
       "      <th>Age</th>\n",
       "      <th>Balance</th>\n",
       "      <th>EstimatedSalary</th>\n",
       "      <th>Geography_France</th>\n",
       "      <th>Geography_Germany</th>\n",
       "      <th>Geography_Spain</th>\n",
       "      <th>Gender_Female</th>\n",
       "      <th>Gender_Male</th>\n",
       "      <th>Tenure_0</th>\n",
       "      <th>Tenure_1</th>\n",
       "      <th>Tenure_2</th>\n",
       "      <th>Tenure_3</th>\n",
       "      <th>Tenure_4</th>\n",
       "      <th>Tenure_5</th>\n",
       "      <th>Tenure_6</th>\n",
       "      <th>Tenure_7</th>\n",
       "      <th>Tenure_8</th>\n",
       "      <th>Tenure_9</th>\n",
       "      <th>Tenure_10</th>\n",
       "      <th>NumOfProducts_1</th>\n",
       "      <th>NumOfProducts_2</th>\n",
       "      <th>NumOfProducts_3</th>\n",
       "      <th>NumOfProducts_4</th>\n",
       "      <th>HasCrCard_0.0</th>\n",
       "      <th>HasCrCard_1.0</th>\n",
       "      <th>IsActiveMember_0.0</th>\n",
       "      <th>IsActiveMember_1.0</th>\n",
       "    </tr>\n",
       "  </thead>\n",
       "  <tbody>\n",
       "    <tr>\n",
       "      <th>0</th>\n",
       "      <td>0.472</td>\n",
       "      <td>0.067568</td>\n",
       "      <td>0.000000</td>\n",
       "      <td>0.804903</td>\n",
       "      <td>1</td>\n",
       "      <td>0</td>\n",
       "      <td>0</td>\n",
       "      <td>1</td>\n",
       "      <td>0</td>\n",
       "      <td>0</td>\n",
       "      <td>0</td>\n",
       "      <td>1</td>\n",
       "      <td>0</td>\n",
       "      <td>0</td>\n",
       "      <td>0</td>\n",
       "      <td>0</td>\n",
       "      <td>0</td>\n",
       "      <td>0</td>\n",
       "      <td>0</td>\n",
       "      <td>0</td>\n",
       "      <td>0</td>\n",
       "      <td>1</td>\n",
       "      <td>0</td>\n",
       "      <td>0</td>\n",
       "      <td>1</td>\n",
       "      <td>0</td>\n",
       "      <td>0</td>\n",
       "      <td>1</td>\n",
       "    </tr>\n",
       "    <tr>\n",
       "      <th>1</th>\n",
       "      <td>0.666</td>\n",
       "      <td>0.378378</td>\n",
       "      <td>0.000000</td>\n",
       "      <td>0.362723</td>\n",
       "      <td>1</td>\n",
       "      <td>0</td>\n",
       "      <td>0</td>\n",
       "      <td>1</td>\n",
       "      <td>0</td>\n",
       "      <td>0</td>\n",
       "      <td>0</td>\n",
       "      <td>1</td>\n",
       "      <td>0</td>\n",
       "      <td>0</td>\n",
       "      <td>0</td>\n",
       "      <td>0</td>\n",
       "      <td>0</td>\n",
       "      <td>0</td>\n",
       "      <td>0</td>\n",
       "      <td>0</td>\n",
       "      <td>1</td>\n",
       "      <td>0</td>\n",
       "      <td>0</td>\n",
       "      <td>0</td>\n",
       "      <td>0</td>\n",
       "      <td>1</td>\n",
       "      <td>1</td>\n",
       "      <td>0</td>\n",
       "    </tr>\n",
       "    <tr>\n",
       "      <th>2</th>\n",
       "      <td>0.612</td>\n",
       "      <td>0.216216</td>\n",
       "      <td>0.000000</td>\n",
       "      <td>0.694419</td>\n",
       "      <td>1</td>\n",
       "      <td>0</td>\n",
       "      <td>0</td>\n",
       "      <td>1</td>\n",
       "      <td>0</td>\n",
       "      <td>0</td>\n",
       "      <td>0</td>\n",
       "      <td>0</td>\n",
       "      <td>0</td>\n",
       "      <td>0</td>\n",
       "      <td>0</td>\n",
       "      <td>0</td>\n",
       "      <td>1</td>\n",
       "      <td>0</td>\n",
       "      <td>0</td>\n",
       "      <td>0</td>\n",
       "      <td>0</td>\n",
       "      <td>1</td>\n",
       "      <td>0</td>\n",
       "      <td>0</td>\n",
       "      <td>0</td>\n",
       "      <td>1</td>\n",
       "      <td>1</td>\n",
       "      <td>0</td>\n",
       "    </tr>\n",
       "    <tr>\n",
       "      <th>3</th>\n",
       "      <td>0.662</td>\n",
       "      <td>0.243243</td>\n",
       "      <td>0.000000</td>\n",
       "      <td>0.569654</td>\n",
       "      <td>1</td>\n",
       "      <td>0</td>\n",
       "      <td>0</td>\n",
       "      <td>0</td>\n",
       "      <td>1</td>\n",
       "      <td>0</td>\n",
       "      <td>0</td>\n",
       "      <td>0</td>\n",
       "      <td>0</td>\n",
       "      <td>0</td>\n",
       "      <td>0</td>\n",
       "      <td>0</td>\n",
       "      <td>0</td>\n",
       "      <td>1</td>\n",
       "      <td>0</td>\n",
       "      <td>0</td>\n",
       "      <td>1</td>\n",
       "      <td>0</td>\n",
       "      <td>0</td>\n",
       "      <td>0</td>\n",
       "      <td>0</td>\n",
       "      <td>1</td>\n",
       "      <td>1</td>\n",
       "      <td>0</td>\n",
       "    </tr>\n",
       "    <tr>\n",
       "      <th>4</th>\n",
       "      <td>0.804</td>\n",
       "      <td>0.270270</td>\n",
       "      <td>0.483318</td>\n",
       "      <td>0.697164</td>\n",
       "      <td>0</td>\n",
       "      <td>1</td>\n",
       "      <td>0</td>\n",
       "      <td>0</td>\n",
       "      <td>1</td>\n",
       "      <td>0</td>\n",
       "      <td>0</td>\n",
       "      <td>0</td>\n",
       "      <td>0</td>\n",
       "      <td>0</td>\n",
       "      <td>0</td>\n",
       "      <td>0</td>\n",
       "      <td>0</td>\n",
       "      <td>0</td>\n",
       "      <td>0</td>\n",
       "      <td>1</td>\n",
       "      <td>1</td>\n",
       "      <td>0</td>\n",
       "      <td>0</td>\n",
       "      <td>0</td>\n",
       "      <td>0</td>\n",
       "      <td>1</td>\n",
       "      <td>1</td>\n",
       "      <td>0</td>\n",
       "    </tr>\n",
       "  </tbody>\n",
       "</table>\n",
       "</div>"
      ],
      "text/plain": [
       "   CreditScore       Age   Balance  EstimatedSalary  Geography_France  \\\n",
       "0        0.472  0.067568  0.000000         0.804903                 1   \n",
       "1        0.666  0.378378  0.000000         0.362723                 1   \n",
       "2        0.612  0.216216  0.000000         0.694419                 1   \n",
       "3        0.662  0.243243  0.000000         0.569654                 1   \n",
       "4        0.804  0.270270  0.483318         0.697164                 0   \n",
       "\n",
       "   Geography_Germany  Geography_Spain  Gender_Female  Gender_Male  Tenure_0  \\\n",
       "0                  0                0              1            0         0   \n",
       "1                  0                0              1            0         0   \n",
       "2                  0                0              1            0         0   \n",
       "3                  0                0              0            1         0   \n",
       "4                  1                0              0            1         0   \n",
       "\n",
       "   Tenure_1  Tenure_2  Tenure_3  Tenure_4  Tenure_5  Tenure_6  Tenure_7  \\\n",
       "0         0         1         0         0         0         0         0   \n",
       "1         0         1         0         0         0         0         0   \n",
       "2         0         0         0         0         0         0         1   \n",
       "3         0         0         0         0         0         0         0   \n",
       "4         0         0         0         0         0         0         0   \n",
       "\n",
       "   Tenure_8  Tenure_9  Tenure_10  NumOfProducts_1  NumOfProducts_2  \\\n",
       "0         0         0          0                0                1   \n",
       "1         0         0          0                1                0   \n",
       "2         0         0          0                0                1   \n",
       "3         1         0          0                1                0   \n",
       "4         0         0          1                1                0   \n",
       "\n",
       "   NumOfProducts_3  NumOfProducts_4  HasCrCard_0.0  HasCrCard_1.0  \\\n",
       "0                0                0              1              0   \n",
       "1                0                0              0              1   \n",
       "2                0                0              0              1   \n",
       "3                0                0              0              1   \n",
       "4                0                0              0              1   \n",
       "\n",
       "   IsActiveMember_0.0  IsActiveMember_1.0  \n",
       "0                   0                   1  \n",
       "1                   1                   0  \n",
       "2                   1                   0  \n",
       "3                   1                   0  \n",
       "4                   1                   0  "
      ]
     },
     "execution_count": 24,
     "metadata": {},
     "output_type": "execute_result"
    }
   ],
   "source": [
    "testX.head()"
   ]
  },
  {
   "cell_type": "code",
   "execution_count": 25,
   "id": "15334f4b",
   "metadata": {
    "execution": {
     "iopub.execute_input": "2024-02-02T03:24:38.841485Z",
     "iopub.status.busy": "2024-02-02T03:24:38.841067Z",
     "iopub.status.idle": "2024-02-02T03:24:38.857536Z",
     "shell.execute_reply": "2024-02-02T03:24:38.856526Z"
    },
    "papermill": {
     "duration": 0.044125,
     "end_time": "2024-02-02T03:24:38.859785",
     "exception": false,
     "start_time": "2024-02-02T03:24:38.815660",
     "status": "completed"
    },
    "tags": []
   },
   "outputs": [
    {
     "data": {
      "text/plain": [
       "(0, 0)"
      ]
     },
     "execution_count": 25,
     "metadata": {},
     "output_type": "execute_result"
    }
   ],
   "source": [
    "# one final check to verify dataset is clean\n",
    "trainX.isnull().sum().sum(), testX.isnull().sum().sum()"
   ]
  },
  {
   "cell_type": "code",
   "execution_count": 26,
   "id": "e72f4559",
   "metadata": {
    "execution": {
     "iopub.execute_input": "2024-02-02T03:24:38.908574Z",
     "iopub.status.busy": "2024-02-02T03:24:38.908172Z",
     "iopub.status.idle": "2024-02-02T03:24:38.958553Z",
     "shell.execute_reply": "2024-02-02T03:24:38.957274Z"
    },
    "papermill": {
     "duration": 0.078885,
     "end_time": "2024-02-02T03:24:38.961861",
     "exception": false,
     "start_time": "2024-02-02T03:24:38.882976",
     "status": "completed"
    },
    "tags": []
   },
   "outputs": [],
   "source": [
    "# split trainX into train and validation sets\n",
    "train_X, val_X, train_y, val_y = train_test_split(trainX, trainY, test_size=0.3, shuffle=True, random_state=42)"
   ]
  },
  {
   "cell_type": "code",
   "execution_count": 27,
   "id": "c7506091",
   "metadata": {
    "execution": {
     "iopub.execute_input": "2024-02-02T03:24:39.011668Z",
     "iopub.status.busy": "2024-02-02T03:24:39.010775Z",
     "iopub.status.idle": "2024-02-02T03:24:39.016356Z",
     "shell.execute_reply": "2024-02-02T03:24:39.015207Z"
    },
    "papermill": {
     "duration": 0.032944,
     "end_time": "2024-02-02T03:24:39.018566",
     "exception": false,
     "start_time": "2024-02-02T03:24:38.985622",
     "status": "completed"
    },
    "tags": []
   },
   "outputs": [
    {
     "name": "stdout",
     "output_type": "stream",
     "text": [
      "(115523, 28) (49511, 28) (115523,) (49511,) (110023, 28)\n"
     ]
    }
   ],
   "source": [
    "print(train_X.shape, val_X.shape, train_y.shape, val_y.shape, testX.shape)"
   ]
  },
  {
   "cell_type": "code",
   "execution_count": 28,
   "id": "bd2652c7",
   "metadata": {
    "execution": {
     "iopub.execute_input": "2024-02-02T03:24:39.068330Z",
     "iopub.status.busy": "2024-02-02T03:24:39.067661Z",
     "iopub.status.idle": "2024-02-02T03:24:54.944874Z",
     "shell.execute_reply": "2024-02-02T03:24:54.943829Z"
    },
    "papermill": {
     "duration": 15.905331,
     "end_time": "2024-02-02T03:24:54.947816",
     "exception": false,
     "start_time": "2024-02-02T03:24:39.042485",
     "status": "completed"
    },
    "tags": []
   },
   "outputs": [
    {
     "name": "stderr",
     "output_type": "stream",
     "text": [
      "2024-02-02 03:24:41.474671: E external/local_xla/xla/stream_executor/cuda/cuda_dnn.cc:9261] Unable to register cuDNN factory: Attempting to register factory for plugin cuDNN when one has already been registered\n",
      "2024-02-02 03:24:41.474800: E external/local_xla/xla/stream_executor/cuda/cuda_fft.cc:607] Unable to register cuFFT factory: Attempting to register factory for plugin cuFFT when one has already been registered\n",
      "2024-02-02 03:24:41.654662: E external/local_xla/xla/stream_executor/cuda/cuda_blas.cc:1515] Unable to register cuBLAS factory: Attempting to register factory for plugin cuBLAS when one has already been registered\n"
     ]
    }
   ],
   "source": [
    "# Create Neural Network to train dataset and predict test data\n",
    "from tensorflow.keras.layers import Dense, Dropout, BatchNormalization, Input, Add\n",
    "from tensorflow.keras.models import Model, Sequential\n",
    "from tensorflow.keras.optimizers import Adam, SGD\n",
    "from tensorflow.keras.regularizers import L1, L2, L1L2\n",
    "import tensorflow.keras as keras"
   ]
  },
  {
   "cell_type": "code",
   "execution_count": 29,
   "id": "a63d7d78",
   "metadata": {
    "execution": {
     "iopub.execute_input": "2024-02-02T03:24:54.998851Z",
     "iopub.status.busy": "2024-02-02T03:24:54.997595Z",
     "iopub.status.idle": "2024-02-02T03:25:11.584112Z",
     "shell.execute_reply": "2024-02-02T03:25:11.582642Z"
    },
    "papermill": {
     "duration": 16.615416,
     "end_time": "2024-02-02T03:25:11.587066",
     "exception": false,
     "start_time": "2024-02-02T03:24:54.971650",
     "status": "completed"
    },
    "tags": []
   },
   "outputs": [
    {
     "name": "stdout",
     "output_type": "stream",
     "text": [
      "Collecting scikeras\r\n",
      "  Downloading scikeras-0.12.0-py3-none-any.whl.metadata (4.0 kB)\r\n",
      "Requirement already satisfied: packaging>=0.21 in /opt/conda/lib/python3.10/site-packages (from scikeras) (21.3)\r\n",
      "Requirement already satisfied: scikit-learn>=1.0.0 in /opt/conda/lib/python3.10/site-packages (from scikeras) (1.2.2)\r\n",
      "Requirement already satisfied: pyparsing!=3.0.5,>=2.0.2 in /opt/conda/lib/python3.10/site-packages (from packaging>=0.21->scikeras) (3.1.1)\r\n",
      "Requirement already satisfied: numpy>=1.17.3 in /opt/conda/lib/python3.10/site-packages (from scikit-learn>=1.0.0->scikeras) (1.24.4)\r\n",
      "Requirement already satisfied: scipy>=1.3.2 in /opt/conda/lib/python3.10/site-packages (from scikit-learn>=1.0.0->scikeras) (1.11.4)\r\n",
      "Requirement already satisfied: joblib>=1.1.1 in /opt/conda/lib/python3.10/site-packages (from scikit-learn>=1.0.0->scikeras) (1.3.2)\r\n",
      "Requirement already satisfied: threadpoolctl>=2.0.0 in /opt/conda/lib/python3.10/site-packages (from scikit-learn>=1.0.0->scikeras) (3.2.0)\r\n",
      "Downloading scikeras-0.12.0-py3-none-any.whl (27 kB)\r\n",
      "Installing collected packages: scikeras\r\n",
      "Successfully installed scikeras-0.12.0\r\n"
     ]
    }
   ],
   "source": [
    "!pip install scikeras"
   ]
  },
  {
   "cell_type": "code",
   "execution_count": 30,
   "id": "e37831fd",
   "metadata": {
    "execution": {
     "iopub.execute_input": "2024-02-02T03:25:11.638297Z",
     "iopub.status.busy": "2024-02-02T03:25:11.637828Z",
     "iopub.status.idle": "2024-02-02T03:25:11.709296Z",
     "shell.execute_reply": "2024-02-02T03:25:11.707991Z"
    },
    "papermill": {
     "duration": 0.100823,
     "end_time": "2024-02-02T03:25:11.712140",
     "exception": false,
     "start_time": "2024-02-02T03:25:11.611317",
     "status": "completed"
    },
    "tags": []
   },
   "outputs": [],
   "source": [
    "# import KerasClassifier\n",
    "# from keras.wrappers.scikit_learn import KerasClassifier, KerasRegressor\n",
    "from scikeras.wrappers import KerasClassifier, KerasRegressor\n",
    "\n",
    "import tensorflow.keras as keras\n",
    "from keras.constraints import MaxNorm\n",
    "from keras.initializers import glorot_uniform, he_uniform, glorot_normal, he_normal\n",
    "# from keras.initializers import uniform, normal, zero\n",
    "from keras.optimizers import Adam, SGD, RMSprop, Adadelta, Adagrad, Adamax, Nadam, Ftrl\n",
    "from keras.layers import LeakyReLU, ReLU\n",
    "LeakyReLU = LeakyReLU(alpha=0.1)\n",
    "from keras.callbacks import EarlyStopping, ModelCheckpoint, LearningRateScheduler"
   ]
  },
  {
   "cell_type": "code",
   "execution_count": 31,
   "id": "6d739d17",
   "metadata": {
    "execution": {
     "iopub.execute_input": "2024-02-02T03:25:11.762134Z",
     "iopub.status.busy": "2024-02-02T03:25:11.761678Z",
     "iopub.status.idle": "2024-02-02T03:25:11.767681Z",
     "shell.execute_reply": "2024-02-02T03:25:11.766540Z"
    },
    "papermill": {
     "duration": 0.033532,
     "end_time": "2024-02-02T03:25:11.769969",
     "exception": false,
     "start_time": "2024-02-02T03:25:11.736437",
     "status": "completed"
    },
    "tags": []
   },
   "outputs": [],
   "source": [
    "# number in optimizers_list 8\n",
    "optimizers_list = ['SGD', 'RMSprop', 'Adam', 'Adagrad',\n",
    "                   'Adadelta', 'Adamax', 'Nadam', 'Ftrl','SGD']\n",
    "\n",
    "# number in activations_list 5\n",
    "activations_list = ['relu', 'tanh', 'selu', \n",
    "                    'elu', 'exponential', 'relu']\n",
    "\n",
    "# number in init_mode_list 8\n",
    "init_mode_list = ['uniform', 'lecun_uniform', 'normal', \n",
    "                  'zero', 'glorot_normal', 'glorot_uniform', \n",
    "                  'he_normal', 'he_uniform', 'uniform']"
   ]
  },
  {
   "cell_type": "markdown",
   "id": "c6e25046",
   "metadata": {
    "papermill": {
     "duration": 0.023679,
     "end_time": "2024-02-02T03:25:11.817558",
     "exception": false,
     "start_time": "2024-02-02T03:25:11.793879",
     "status": "completed"
    },
    "tags": []
   },
   "source": [
    "## for this run wil use hyperparameters from GRID search done on Google Colab"
   ]
  },
  {
   "cell_type": "code",
   "execution_count": 32,
   "id": "9a8cae8b",
   "metadata": {
    "execution": {
     "iopub.execute_input": "2024-02-02T03:25:11.869382Z",
     "iopub.status.busy": "2024-02-02T03:25:11.868532Z",
     "iopub.status.idle": "2024-02-02T03:25:11.878822Z",
     "shell.execute_reply": "2024-02-02T03:25:11.877406Z"
    },
    "papermill": {
     "duration": 0.03908,
     "end_time": "2024-02-02T03:25:11.881871",
     "exception": false,
     "start_time": "2024-02-02T03:25:11.842791",
     "status": "completed"
    },
    "tags": []
   },
   "outputs": [
    {
     "name": "stdout",
     "output_type": "stream",
     "text": [
      "use_scale_ratio:       1.0\n",
      "num_inputs:            28\n",
      "num_outputs:            1\n",
      "def_neurons:          128\n",
      "def_num_layers:         3\n",
      "def_batch:             32\n",
      "def_epoch:            100\n",
      "def_dropout:          0.2\n"
     ]
    }
   ],
   "source": [
    "num_outputs = 1\n",
    "trainX_model = train_X\n",
    "trainy_model = train_y\n",
    "valX_model = val_X\n",
    "valy_model = val_y\n",
    "testX_model = testX\n",
    "\n",
    "num_inputs = trainX_model.shape[1]\n",
    "num_samples = trainX_model.shape[0]\n",
    "use_scale_ratio = 1.0     # used in intermediate layers\n",
    "\n",
    "# create dictionary to store hyper-parameters\n",
    "hyper_params = dict()\n",
    "\n",
    "print(\n",
    "    f\"{'use_scale_ratio:':<15}{use_scale_ratio:>10}\",\n",
    "    f\"{'num_inputs:':<15}{num_inputs:>10}\",\n",
    "    f\"{'num_outputs:':<15}{num_outputs:>10}\",\n",
    "    sep='\\n'\n",
    ")\n",
    "\n",
    "def_batch = 32\n",
    "def_epoch = 100\n",
    "def_num_layers = 3\n",
    "def_dropout = 0.2\n",
    "def_neurons = 128\n",
    "\n",
    "print(\n",
    "    f\"{'def_neurons:':<15}{def_neurons:>10}\",\n",
    "    f\"{'def_num_layers:':<15}{def_num_layers:>10}\",\n",
    "    f\"{'def_batch:':<15}{def_batch:>10}\",\n",
    "    f\"{'def_epoch:':<15}{def_epoch:>10}\",\n",
    "    f\"{'def_dropout:':<15}{def_dropout:>10}\",\n",
    "    sep='\\n'\n",
    ")"
   ]
  },
  {
   "cell_type": "code",
   "execution_count": 33,
   "id": "a943e8a3",
   "metadata": {
    "execution": {
     "iopub.execute_input": "2024-02-02T03:25:11.932652Z",
     "iopub.status.busy": "2024-02-02T03:25:11.932255Z",
     "iopub.status.idle": "2024-02-02T03:25:11.939140Z",
     "shell.execute_reply": "2024-02-02T03:25:11.937966Z"
    },
    "papermill": {
     "duration": 0.034979,
     "end_time": "2024-02-02T03:25:11.941425",
     "exception": false,
     "start_time": "2024-02-02T03:25:11.906446",
     "status": "completed"
    },
    "tags": []
   },
   "outputs": [],
   "source": [
    "# default values to setup a Keras model\n",
    "hyper_params['learning_rate']     = 0.001\n",
    "hyper_params['momentum']          = 0.5 \n",
    "hyper_params['init_mode']         = 'he_uniform'\n",
    "hyper_params['activation']        = 'relu'\n",
    "hyper_params['dropout']           = def_dropout\n",
    "hyper_params['weight_constraint'] = 4.0                 \n",
    "hyper_params['neurons']           = def_neurons\n",
    "hyper_params['optimizer']         = 'SGD'\n",
    "hyper_params['epochs']            = def_epoch\n",
    "hyper_params['batch_size']        = def_batch\n",
    "hyper_params['num_hidden_layers'] = def_num_layers\n",
    "hyper_params['l2_rate']           = 1e-4"
   ]
  },
  {
   "cell_type": "code",
   "execution_count": 34,
   "id": "2c6d3950",
   "metadata": {
    "execution": {
     "iopub.execute_input": "2024-02-02T03:25:11.991596Z",
     "iopub.status.busy": "2024-02-02T03:25:11.990692Z",
     "iopub.status.idle": "2024-02-02T03:25:12.016461Z",
     "shell.execute_reply": "2024-02-02T03:25:12.015076Z"
    },
    "papermill": {
     "duration": 0.053625,
     "end_time": "2024-02-02T03:25:12.019052",
     "exception": false,
     "start_time": "2024-02-02T03:25:11.965427",
     "status": "completed"
    },
    "tags": []
   },
   "outputs": [
    {
     "data": {
      "text/html": [
       "<div>\n",
       "<style scoped>\n",
       "    .dataframe tbody tr th:only-of-type {\n",
       "        vertical-align: middle;\n",
       "    }\n",
       "\n",
       "    .dataframe tbody tr th {\n",
       "        vertical-align: top;\n",
       "    }\n",
       "\n",
       "    .dataframe thead th {\n",
       "        text-align: right;\n",
       "    }\n",
       "</style>\n",
       "<table border=\"1\" class=\"dataframe\">\n",
       "  <thead>\n",
       "    <tr style=\"text-align: right;\">\n",
       "      <th></th>\n",
       "      <th>CreditScore</th>\n",
       "      <th>Age</th>\n",
       "      <th>Balance</th>\n",
       "      <th>EstimatedSalary</th>\n",
       "      <th>Geography_France</th>\n",
       "      <th>Geography_Germany</th>\n",
       "      <th>Geography_Spain</th>\n",
       "      <th>Gender_Female</th>\n",
       "      <th>Gender_Male</th>\n",
       "      <th>Tenure_0</th>\n",
       "      <th>Tenure_1</th>\n",
       "      <th>Tenure_2</th>\n",
       "      <th>Tenure_3</th>\n",
       "      <th>Tenure_4</th>\n",
       "      <th>Tenure_5</th>\n",
       "      <th>Tenure_6</th>\n",
       "      <th>Tenure_7</th>\n",
       "      <th>Tenure_8</th>\n",
       "      <th>Tenure_9</th>\n",
       "      <th>Tenure_10</th>\n",
       "      <th>NumOfProducts_1</th>\n",
       "      <th>NumOfProducts_2</th>\n",
       "      <th>NumOfProducts_3</th>\n",
       "      <th>NumOfProducts_4</th>\n",
       "      <th>HasCrCard_0.0</th>\n",
       "      <th>HasCrCard_1.0</th>\n",
       "      <th>IsActiveMember_0.0</th>\n",
       "      <th>IsActiveMember_1.0</th>\n",
       "    </tr>\n",
       "  </thead>\n",
       "  <tbody>\n",
       "    <tr>\n",
       "      <th>76047</th>\n",
       "      <td>0.348</td>\n",
       "      <td>0.364865</td>\n",
       "      <td>0.000000</td>\n",
       "      <td>0.664315</td>\n",
       "      <td>0</td>\n",
       "      <td>0</td>\n",
       "      <td>1</td>\n",
       "      <td>0</td>\n",
       "      <td>1</td>\n",
       "      <td>0</td>\n",
       "      <td>0</td>\n",
       "      <td>0</td>\n",
       "      <td>0</td>\n",
       "      <td>0</td>\n",
       "      <td>0</td>\n",
       "      <td>1</td>\n",
       "      <td>0</td>\n",
       "      <td>0</td>\n",
       "      <td>0</td>\n",
       "      <td>0</td>\n",
       "      <td>0</td>\n",
       "      <td>1</td>\n",
       "      <td>0</td>\n",
       "      <td>0</td>\n",
       "      <td>0</td>\n",
       "      <td>1</td>\n",
       "      <td>1</td>\n",
       "      <td>0</td>\n",
       "    </tr>\n",
       "    <tr>\n",
       "      <th>57212</th>\n",
       "      <td>0.538</td>\n",
       "      <td>0.324324</td>\n",
       "      <td>0.376619</td>\n",
       "      <td>0.971400</td>\n",
       "      <td>0</td>\n",
       "      <td>0</td>\n",
       "      <td>1</td>\n",
       "      <td>1</td>\n",
       "      <td>0</td>\n",
       "      <td>0</td>\n",
       "      <td>0</td>\n",
       "      <td>0</td>\n",
       "      <td>0</td>\n",
       "      <td>0</td>\n",
       "      <td>1</td>\n",
       "      <td>0</td>\n",
       "      <td>0</td>\n",
       "      <td>0</td>\n",
       "      <td>0</td>\n",
       "      <td>0</td>\n",
       "      <td>1</td>\n",
       "      <td>0</td>\n",
       "      <td>0</td>\n",
       "      <td>0</td>\n",
       "      <td>1</td>\n",
       "      <td>0</td>\n",
       "      <td>0</td>\n",
       "      <td>1</td>\n",
       "    </tr>\n",
       "    <tr>\n",
       "      <th>159972</th>\n",
       "      <td>0.916</td>\n",
       "      <td>0.202703</td>\n",
       "      <td>0.412585</td>\n",
       "      <td>0.569535</td>\n",
       "      <td>1</td>\n",
       "      <td>0</td>\n",
       "      <td>0</td>\n",
       "      <td>0</td>\n",
       "      <td>1</td>\n",
       "      <td>0</td>\n",
       "      <td>0</td>\n",
       "      <td>0</td>\n",
       "      <td>0</td>\n",
       "      <td>0</td>\n",
       "      <td>1</td>\n",
       "      <td>0</td>\n",
       "      <td>0</td>\n",
       "      <td>0</td>\n",
       "      <td>0</td>\n",
       "      <td>0</td>\n",
       "      <td>0</td>\n",
       "      <td>1</td>\n",
       "      <td>0</td>\n",
       "      <td>0</td>\n",
       "      <td>0</td>\n",
       "      <td>1</td>\n",
       "      <td>1</td>\n",
       "      <td>0</td>\n",
       "    </tr>\n",
       "    <tr>\n",
       "      <th>7950</th>\n",
       "      <td>0.384</td>\n",
       "      <td>0.081081</td>\n",
       "      <td>0.000000</td>\n",
       "      <td>0.652216</td>\n",
       "      <td>1</td>\n",
       "      <td>0</td>\n",
       "      <td>0</td>\n",
       "      <td>1</td>\n",
       "      <td>0</td>\n",
       "      <td>0</td>\n",
       "      <td>0</td>\n",
       "      <td>0</td>\n",
       "      <td>0</td>\n",
       "      <td>0</td>\n",
       "      <td>0</td>\n",
       "      <td>0</td>\n",
       "      <td>0</td>\n",
       "      <td>1</td>\n",
       "      <td>0</td>\n",
       "      <td>0</td>\n",
       "      <td>0</td>\n",
       "      <td>1</td>\n",
       "      <td>0</td>\n",
       "      <td>0</td>\n",
       "      <td>1</td>\n",
       "      <td>0</td>\n",
       "      <td>1</td>\n",
       "      <td>0</td>\n",
       "    </tr>\n",
       "    <tr>\n",
       "      <th>65073</th>\n",
       "      <td>0.472</td>\n",
       "      <td>0.324324</td>\n",
       "      <td>0.434097</td>\n",
       "      <td>0.614628</td>\n",
       "      <td>0</td>\n",
       "      <td>1</td>\n",
       "      <td>0</td>\n",
       "      <td>1</td>\n",
       "      <td>0</td>\n",
       "      <td>0</td>\n",
       "      <td>0</td>\n",
       "      <td>0</td>\n",
       "      <td>0</td>\n",
       "      <td>0</td>\n",
       "      <td>0</td>\n",
       "      <td>0</td>\n",
       "      <td>0</td>\n",
       "      <td>0</td>\n",
       "      <td>1</td>\n",
       "      <td>0</td>\n",
       "      <td>1</td>\n",
       "      <td>0</td>\n",
       "      <td>0</td>\n",
       "      <td>0</td>\n",
       "      <td>1</td>\n",
       "      <td>0</td>\n",
       "      <td>1</td>\n",
       "      <td>0</td>\n",
       "    </tr>\n",
       "  </tbody>\n",
       "</table>\n",
       "</div>"
      ],
      "text/plain": [
       "        CreditScore       Age   Balance  EstimatedSalary  Geography_France  \\\n",
       "76047         0.348  0.364865  0.000000         0.664315                 0   \n",
       "57212         0.538  0.324324  0.376619         0.971400                 0   \n",
       "159972        0.916  0.202703  0.412585         0.569535                 1   \n",
       "7950          0.384  0.081081  0.000000         0.652216                 1   \n",
       "65073         0.472  0.324324  0.434097         0.614628                 0   \n",
       "\n",
       "        Geography_Germany  Geography_Spain  Gender_Female  Gender_Male  \\\n",
       "76047                   0                1              0            1   \n",
       "57212                   0                1              1            0   \n",
       "159972                  0                0              0            1   \n",
       "7950                    0                0              1            0   \n",
       "65073                   1                0              1            0   \n",
       "\n",
       "        Tenure_0  Tenure_1  Tenure_2  Tenure_3  Tenure_4  Tenure_5  Tenure_6  \\\n",
       "76047          0         0         0         0         0         0         1   \n",
       "57212          0         0         0         0         0         1         0   \n",
       "159972         0         0         0         0         0         1         0   \n",
       "7950           0         0         0         0         0         0         0   \n",
       "65073          0         0         0         0         0         0         0   \n",
       "\n",
       "        Tenure_7  Tenure_8  Tenure_9  Tenure_10  NumOfProducts_1  \\\n",
       "76047          0         0         0          0                0   \n",
       "57212          0         0         0          0                1   \n",
       "159972         0         0         0          0                0   \n",
       "7950           0         1         0          0                0   \n",
       "65073          0         0         1          0                1   \n",
       "\n",
       "        NumOfProducts_2  NumOfProducts_3  NumOfProducts_4  HasCrCard_0.0  \\\n",
       "76047                 1                0                0              0   \n",
       "57212                 0                0                0              1   \n",
       "159972                1                0                0              0   \n",
       "7950                  1                0                0              1   \n",
       "65073                 0                0                0              1   \n",
       "\n",
       "        HasCrCard_1.0  IsActiveMember_0.0  IsActiveMember_1.0  \n",
       "76047               1                   1                   0  \n",
       "57212               0                   0                   1  \n",
       "159972              1                   1                   0  \n",
       "7950                0                   1                   0  \n",
       "65073               0                   1                   0  "
      ]
     },
     "execution_count": 34,
     "metadata": {},
     "output_type": "execute_result"
    }
   ],
   "source": [
    "trainX_model.head()"
   ]
  },
  {
   "cell_type": "code",
   "execution_count": 35,
   "id": "c84549ce",
   "metadata": {
    "execution": {
     "iopub.execute_input": "2024-02-02T03:25:12.072305Z",
     "iopub.status.busy": "2024-02-02T03:25:12.071051Z",
     "iopub.status.idle": "2024-02-02T03:25:12.094876Z",
     "shell.execute_reply": "2024-02-02T03:25:12.093951Z"
    },
    "papermill": {
     "duration": 0.052961,
     "end_time": "2024-02-02T03:25:12.097007",
     "exception": false,
     "start_time": "2024-02-02T03:25:12.044046",
     "status": "completed"
    },
    "tags": []
   },
   "outputs": [
    {
     "data": {
      "text/html": [
       "<div>\n",
       "<style scoped>\n",
       "    .dataframe tbody tr th:only-of-type {\n",
       "        vertical-align: middle;\n",
       "    }\n",
       "\n",
       "    .dataframe tbody tr th {\n",
       "        vertical-align: top;\n",
       "    }\n",
       "\n",
       "    .dataframe thead th {\n",
       "        text-align: right;\n",
       "    }\n",
       "</style>\n",
       "<table border=\"1\" class=\"dataframe\">\n",
       "  <thead>\n",
       "    <tr style=\"text-align: right;\">\n",
       "      <th></th>\n",
       "      <th>CreditScore</th>\n",
       "      <th>Age</th>\n",
       "      <th>Balance</th>\n",
       "      <th>EstimatedSalary</th>\n",
       "      <th>Geography_France</th>\n",
       "      <th>Geography_Germany</th>\n",
       "      <th>Geography_Spain</th>\n",
       "      <th>Gender_Female</th>\n",
       "      <th>Gender_Male</th>\n",
       "      <th>Tenure_0</th>\n",
       "      <th>Tenure_1</th>\n",
       "      <th>Tenure_2</th>\n",
       "      <th>Tenure_3</th>\n",
       "      <th>Tenure_4</th>\n",
       "      <th>Tenure_5</th>\n",
       "      <th>Tenure_6</th>\n",
       "      <th>Tenure_7</th>\n",
       "      <th>Tenure_8</th>\n",
       "      <th>Tenure_9</th>\n",
       "      <th>Tenure_10</th>\n",
       "      <th>NumOfProducts_1</th>\n",
       "      <th>NumOfProducts_2</th>\n",
       "      <th>NumOfProducts_3</th>\n",
       "      <th>NumOfProducts_4</th>\n",
       "      <th>HasCrCard_0.0</th>\n",
       "      <th>HasCrCard_1.0</th>\n",
       "      <th>IsActiveMember_0.0</th>\n",
       "      <th>IsActiveMember_1.0</th>\n",
       "    </tr>\n",
       "  </thead>\n",
       "  <tbody>\n",
       "    <tr>\n",
       "      <th>33042</th>\n",
       "      <td>0.896</td>\n",
       "      <td>0.175676</td>\n",
       "      <td>0.406842</td>\n",
       "      <td>0.397867</td>\n",
       "      <td>1</td>\n",
       "      <td>0</td>\n",
       "      <td>0</td>\n",
       "      <td>1</td>\n",
       "      <td>0</td>\n",
       "      <td>0</td>\n",
       "      <td>0</td>\n",
       "      <td>0</td>\n",
       "      <td>0</td>\n",
       "      <td>0</td>\n",
       "      <td>0</td>\n",
       "      <td>0</td>\n",
       "      <td>0</td>\n",
       "      <td>1</td>\n",
       "      <td>0</td>\n",
       "      <td>0</td>\n",
       "      <td>1</td>\n",
       "      <td>0</td>\n",
       "      <td>0</td>\n",
       "      <td>0</td>\n",
       "      <td>0</td>\n",
       "      <td>1</td>\n",
       "      <td>1</td>\n",
       "      <td>0</td>\n",
       "    </tr>\n",
       "    <tr>\n",
       "      <th>36330</th>\n",
       "      <td>0.558</td>\n",
       "      <td>0.108108</td>\n",
       "      <td>0.000000</td>\n",
       "      <td>0.190914</td>\n",
       "      <td>1</td>\n",
       "      <td>0</td>\n",
       "      <td>0</td>\n",
       "      <td>0</td>\n",
       "      <td>1</td>\n",
       "      <td>0</td>\n",
       "      <td>0</td>\n",
       "      <td>0</td>\n",
       "      <td>0</td>\n",
       "      <td>0</td>\n",
       "      <td>0</td>\n",
       "      <td>1</td>\n",
       "      <td>0</td>\n",
       "      <td>0</td>\n",
       "      <td>0</td>\n",
       "      <td>0</td>\n",
       "      <td>0</td>\n",
       "      <td>1</td>\n",
       "      <td>0</td>\n",
       "      <td>0</td>\n",
       "      <td>0</td>\n",
       "      <td>1</td>\n",
       "      <td>1</td>\n",
       "      <td>0</td>\n",
       "    </tr>\n",
       "    <tr>\n",
       "      <th>59446</th>\n",
       "      <td>0.430</td>\n",
       "      <td>0.283784</td>\n",
       "      <td>0.459004</td>\n",
       "      <td>0.345238</td>\n",
       "      <td>1</td>\n",
       "      <td>0</td>\n",
       "      <td>0</td>\n",
       "      <td>0</td>\n",
       "      <td>1</td>\n",
       "      <td>0</td>\n",
       "      <td>0</td>\n",
       "      <td>0</td>\n",
       "      <td>0</td>\n",
       "      <td>0</td>\n",
       "      <td>0</td>\n",
       "      <td>0</td>\n",
       "      <td>1</td>\n",
       "      <td>0</td>\n",
       "      <td>0</td>\n",
       "      <td>0</td>\n",
       "      <td>0</td>\n",
       "      <td>0</td>\n",
       "      <td>1</td>\n",
       "      <td>0</td>\n",
       "      <td>0</td>\n",
       "      <td>1</td>\n",
       "      <td>1</td>\n",
       "      <td>0</td>\n",
       "    </tr>\n",
       "    <tr>\n",
       "      <th>92278</th>\n",
       "      <td>0.606</td>\n",
       "      <td>0.500000</td>\n",
       "      <td>0.280049</td>\n",
       "      <td>0.311710</td>\n",
       "      <td>0</td>\n",
       "      <td>0</td>\n",
       "      <td>1</td>\n",
       "      <td>0</td>\n",
       "      <td>1</td>\n",
       "      <td>0</td>\n",
       "      <td>0</td>\n",
       "      <td>1</td>\n",
       "      <td>0</td>\n",
       "      <td>0</td>\n",
       "      <td>0</td>\n",
       "      <td>0</td>\n",
       "      <td>0</td>\n",
       "      <td>0</td>\n",
       "      <td>0</td>\n",
       "      <td>0</td>\n",
       "      <td>1</td>\n",
       "      <td>0</td>\n",
       "      <td>0</td>\n",
       "      <td>0</td>\n",
       "      <td>1</td>\n",
       "      <td>0</td>\n",
       "      <td>1</td>\n",
       "      <td>0</td>\n",
       "    </tr>\n",
       "    <tr>\n",
       "      <th>146750</th>\n",
       "      <td>0.414</td>\n",
       "      <td>0.175676</td>\n",
       "      <td>0.424859</td>\n",
       "      <td>0.456515</td>\n",
       "      <td>1</td>\n",
       "      <td>0</td>\n",
       "      <td>0</td>\n",
       "      <td>1</td>\n",
       "      <td>0</td>\n",
       "      <td>0</td>\n",
       "      <td>0</td>\n",
       "      <td>0</td>\n",
       "      <td>0</td>\n",
       "      <td>0</td>\n",
       "      <td>0</td>\n",
       "      <td>1</td>\n",
       "      <td>0</td>\n",
       "      <td>0</td>\n",
       "      <td>0</td>\n",
       "      <td>0</td>\n",
       "      <td>1</td>\n",
       "      <td>0</td>\n",
       "      <td>0</td>\n",
       "      <td>0</td>\n",
       "      <td>0</td>\n",
       "      <td>1</td>\n",
       "      <td>1</td>\n",
       "      <td>0</td>\n",
       "    </tr>\n",
       "  </tbody>\n",
       "</table>\n",
       "</div>"
      ],
      "text/plain": [
       "        CreditScore       Age   Balance  EstimatedSalary  Geography_France  \\\n",
       "33042         0.896  0.175676  0.406842         0.397867                 1   \n",
       "36330         0.558  0.108108  0.000000         0.190914                 1   \n",
       "59446         0.430  0.283784  0.459004         0.345238                 1   \n",
       "92278         0.606  0.500000  0.280049         0.311710                 0   \n",
       "146750        0.414  0.175676  0.424859         0.456515                 1   \n",
       "\n",
       "        Geography_Germany  Geography_Spain  Gender_Female  Gender_Male  \\\n",
       "33042                   0                0              1            0   \n",
       "36330                   0                0              0            1   \n",
       "59446                   0                0              0            1   \n",
       "92278                   0                1              0            1   \n",
       "146750                  0                0              1            0   \n",
       "\n",
       "        Tenure_0  Tenure_1  Tenure_2  Tenure_3  Tenure_4  Tenure_5  Tenure_6  \\\n",
       "33042          0         0         0         0         0         0         0   \n",
       "36330          0         0         0         0         0         0         1   \n",
       "59446          0         0         0         0         0         0         0   \n",
       "92278          0         0         1         0         0         0         0   \n",
       "146750         0         0         0         0         0         0         1   \n",
       "\n",
       "        Tenure_7  Tenure_8  Tenure_9  Tenure_10  NumOfProducts_1  \\\n",
       "33042          0         1         0          0                1   \n",
       "36330          0         0         0          0                0   \n",
       "59446          1         0         0          0                0   \n",
       "92278          0         0         0          0                1   \n",
       "146750         0         0         0          0                1   \n",
       "\n",
       "        NumOfProducts_2  NumOfProducts_3  NumOfProducts_4  HasCrCard_0.0  \\\n",
       "33042                 0                0                0              0   \n",
       "36330                 1                0                0              0   \n",
       "59446                 0                1                0              0   \n",
       "92278                 0                0                0              1   \n",
       "146750                0                0                0              0   \n",
       "\n",
       "        HasCrCard_1.0  IsActiveMember_0.0  IsActiveMember_1.0  \n",
       "33042               1                   1                   0  \n",
       "36330               1                   1                   0  \n",
       "59446               1                   1                   0  \n",
       "92278               0                   1                   0  \n",
       "146750              1                   1                   0  "
      ]
     },
     "execution_count": 35,
     "metadata": {},
     "output_type": "execute_result"
    }
   ],
   "source": [
    "valX_model.head()"
   ]
  },
  {
   "cell_type": "markdown",
   "id": "2937d74a",
   "metadata": {
    "papermill": {
     "duration": 0.024587,
     "end_time": "2024-02-02T03:25:12.146526",
     "exception": false,
     "start_time": "2024-02-02T03:25:12.121939",
     "status": "completed"
    },
    "tags": []
   },
   "source": [
    "## function to create Sequential and Functional Neural Network Models"
   ]
  },
  {
   "cell_type": "code",
   "execution_count": 36,
   "id": "0943346a",
   "metadata": {
    "execution": {
     "iopub.execute_input": "2024-02-02T03:25:12.199430Z",
     "iopub.status.busy": "2024-02-02T03:25:12.198994Z",
     "iopub.status.idle": "2024-02-02T03:25:12.234425Z",
     "shell.execute_reply": "2024-02-02T03:25:12.233286Z"
    },
    "papermill": {
     "duration": 0.065079,
     "end_time": "2024-02-02T03:25:12.237228",
     "exception": false,
     "start_time": "2024-02-02T03:25:12.172149",
     "status": "completed"
    },
    "tags": []
   },
   "outputs": [],
   "source": [
    "def create_hyper_model(lr=hyper_params['learning_rate'],\n",
    "                       momentum=hyper_params['momentum'],\n",
    "                       init_mode=hyper_params['init_mode'],\n",
    "                       activation=hyper_params['activation'],\n",
    "                       dropout=hyper_params['dropout'],\n",
    "                       weight_constraint=hyper_params['weight_constraint'],\n",
    "                       neurons=hyper_params['neurons'],\n",
    "                       optimizer=hyper_params['optimizer'],\n",
    "                       num_hidden_layers=hyper_params['num_hidden_layers'],\n",
    "                       epochs=hyper_params['epochs'],\n",
    "                       batch_size=hyper_params['batch_size'],\n",
    "                       create_model=False,\n",
    "                       l2=hyper_params['l2_rate'],\n",
    "                      ):\n",
    "    \n",
    "    # clear model session and recreate - \n",
    "    # according to Keras docs works for a functional model\n",
    "    keras.backend.clear_session()  \n",
    "    dense_dict = inspect.signature(Dense)\n",
    "    dropout_dict = inspect.signature(Dropout)\n",
    "    batch_norm_dict = inspect.signature(BatchNormalization)\n",
    "\n",
    "    ###################################################\n",
    "    # get defaults for hyper-search parameter values\n",
    "    ###################################################\n",
    "    epochs = 70 if epochs is None else round(epochs)\n",
    "    batch_size = 32 if batch_size is None else round(batch_size)\n",
    "\n",
    "    # number in init_mode_list 8\n",
    "    if type(init_mode) is not str:\n",
    "        init_mode = 'glorot_normal' if init_mode is None else init_mode_list[round(init_mode)]\n",
    "\n",
    "    # number in activations_list 5\n",
    "    if type(activation) is not str:\n",
    "        activation = 'relu' if activation is None else activations_list[round(activation)]\n",
    "    \n",
    "    # print(f'neurons:{neurons} - num_hidden_layers:{num_hidden_layers}')\n",
    "    weight_constraint = 4.0 if weight_constraint is None else weight_constraint\n",
    "    dropout = 0.2 if dropout is None else dropout\n",
    "    l2 = 1e-4 if l2 is None else l2\n",
    "    lr = 0.001 if lr is None else lr\n",
    "    momentum = 0.0 if momentum is None else momentum\n",
    "    num_hidden_layers = 2 if num_hidden_layers is None else num_hidden_layers\n",
    "    neurons = 1024 if neurons is None else neurons\n",
    "        \n",
    "    # number in optimizers_list 8\n",
    "    if type(optimizer) is not str:\n",
    "        optimizer = 'SGD' if optimizer is None else optimizers_list[round(optimizer)]\n",
    "\n",
    "    # print(f'neurons:{neurons} - num_hidden_layers:{num_hidden_layers}')\n",
    "    neurons = round(neurons)\n",
    "    num_hidden_layers = round(num_hidden_layers)\n",
    "    # print(f'neurons:{neurons} - num_hidden_layers:{num_hidden_layers}')\n",
    "\n",
    "    ###################################################\n",
    "    # create model\n",
    "    ###################################################\n",
    "    def build_seq_neural():\n",
    "        \n",
    "        model = Sequential()\n",
    "        model.add(Dense(neurons, input_shape=(num_inputs,),    \n",
    "                      kernel_initializer=init_mode, \n",
    "                      activation=activation,\n",
    "                      kernel_constraint=MaxNorm(weight_constraint),\n",
    "                      kernel_regularizer=L2(l2),\n",
    "                     ))\n",
    "        \n",
    "        # BatchNormalization only used in CONV Neural Nets\n",
    "        # if momentum > 0.5:\n",
    "        #    model.add(BatchNormalization(momentum=momentum))\n",
    "        use_scale_ratio = 1.0 # This var must be defined in 'build_neural'\n",
    "        if dropout > 0.1:  model.add(Dropout(dropout))                       # Dropout\n",
    "\n",
    "        if num_hidden_layers > 0:                          # activated only if # > 0\n",
    "            # print(f'use_scale_ratio: {use_scale_ratio}')'\n",
    "            for i in range(0, math.ceil(num_hidden_layers -1) ):  \n",
    "                use_scale_ratio = use_scale_ratio / num_hidden_layers\n",
    "                model.add(Dense(round(math.ceil(neurons * use_scale_ratio)),\n",
    "                            kernel_initializer=init_mode, \n",
    "                            activation=activation,\n",
    "                            kernel_constraint=MaxNorm(weight_constraint),\n",
    "                            kernel_regularizer=L2(l2),\n",
    "                      ))\n",
    "\n",
    "            \n",
    "        # if num_hidden_layers > 1:                         \n",
    "        # activated irrespective of hidden layer\n",
    "        model.add(Dense(round(math.ceil(neurons * use_scale_ratio * dropout )), \n",
    "                      kernel_initializer=init_mode,\n",
    "                      activation=activation,\n",
    "                      kernel_regularizer=L2(l2),\n",
    "                      kernel_constraint=MaxNorm(weight_constraint)))\n",
    "        if dropout < 0.2: model.add(Dropout(dropout))                    # Dropout\n",
    "        \n",
    "        model.add(Dense(num_outputs, kernel_initializer=init_mode, activation='sigmoid'))\n",
    "      ###################################################\n",
    "      \n",
    "        # Compile model\n",
    "        opt=keras.optimizers.get(optimizer)   # opt.__dir__ to know what can be set\n",
    "        opt_list = ['SGD','RMSprop']\n",
    "      \n",
    "        # if optimizer is one of 'SGD' -or- 'RMSprop'\n",
    "        if optimizer in opt_list:\n",
    "            opt.momentum=momentum\n",
    "          \n",
    "        opt.learning_rate=lr\n",
    "        model.compile(loss='binary_crossentropy', optimizer=opt, metrics=['accuracy'])\n",
    "      \n",
    "        return model\n",
    "    ###################################################\n",
    "    def build_neural():\n",
    "        \n",
    "        input = Input(shape=(num_inputs,))\n",
    "        drop_out = Dropout(dropout)(input)                       # Dropout\n",
    "        lay1 = Dense(neurons, kernel_initializer=init_mode, \n",
    "                   activation=activation,\n",
    "                   kernel_constraint=MaxNorm(weight_constraint),\n",
    "                   kernel_regularizer=L2(l2))(drop_out)\n",
    "\n",
    "        # BatchNormalization only used in CONV Neural Nets\n",
    "        # if momentum > 0.5:\n",
    "        #    model.add(BatchNormalization(momentum=momentum))\n",
    "        use_scale_ratio = 0.75 # This var must be defined in 'build_neural'\n",
    "      \n",
    "        # if dropout > 0.1:  model.add(Dropout(dropout))                       # Dropout\\\n",
    "        res_lyr = lay1\n",
    "        prev_lyr = None\n",
    "        if num_hidden_layers > 0:\n",
    "            # activated only if # > 0\n",
    "            # print(f'use_scale_ratio: {use_scale_ratio}')'\n",
    "            for i in range(0, round(math.ceil(num_hidden_layers -1))):\n",
    "                use_scale_ratio = use_scale_ratio / num_hidden_layers\n",
    "                prev_lyr = lay1 if prev_lyr is None else lays\n",
    "                lays = 'lyr_'+str(i)\n",
    "                lays = Dense(round(math.ceil(neurons * use_scale_ratio)),\n",
    "                             kernel_initializer=init_mode, \n",
    "                             activation=activation,\n",
    "                             kernel_constraint=MaxNorm(weight_constraint),\n",
    "                             kernel_regularizer=L2(l2))(prev_lyr)\n",
    "\n",
    "        if prev_lyr is None: prev_lyr = lay1\n",
    "        # Dense(round(math.ceil(neurons * use_scale_ratio * dropout )),\n",
    "        final_fc = Dense(round(math.ceil(neurons * use_scale_ratio )), \n",
    "                         kernel_initializer=init_mode, activation=activation, \n",
    "                         kernel_regularizer=L2(l2), \n",
    "                         kernel_constraint=MaxNorm(weight_constraint))(prev_lyr)\n",
    "\n",
    "        # if num_hidden_layers > 1:                         # activated irrespective of hidden layer\n",
    "        if dropout > 0.2:\n",
    "            final_fc = Dropout(dropout)(final_fc)                    # Dropout\n",
    "      \n",
    "        output = Dense(num_outputs, kernel_initializer=init_mode, activation='sigmoid')(final_fc)\n",
    "        model = Model(inputs=input, outputs=output)\n",
    "      ###################################################   \n",
    "      \n",
    "        # Compile model\n",
    "        opt=keras.optimizers.get(optimizer)   # opt.__dir__ to know what can be set\n",
    "        opt_list = ['SGD','RMSprop']\n",
    "      \n",
    "        # if optimizer is one of 'SGD' -or- 'RMSprop'\n",
    "        if optimizer in opt_list:\n",
    "            opt.momentum=momentum\n",
    "          \n",
    "        opt.learning_rate=lr\n",
    "        model.compile(loss='binary_crossentropy', optimizer=opt, metrics=['accuracy'])\n",
    "      \n",
    "        return model\n",
    "    ###################################################\n",
    "  \n",
    "    if create_model:\n",
    "        return build_neural()\n",
    "      \n",
    "    else:\n",
    "        es = EarlyStopping(\n",
    "            monitor='accuracy', \n",
    "            mode='max', \n",
    "            verbose=0, \n",
    "            patience=5,\n",
    "          )\n",
    "      \n",
    "        # Functional: build_neural\n",
    "        # Sequential: build_seq_neural\n",
    "        nn = KerasClassifier(\n",
    "            build_fn=build_neural,    # change which model you want to build\n",
    "            epochs=epochs, \n",
    "            batch_size=batch_size,\n",
    "            verbose=0,\n",
    "          )\n",
    "      \n",
    "        kfold = StratifiedKFold(\n",
    "            n_splits=5, \n",
    "            shuffle=True,\n",
    "            random_state=125,\n",
    "          )\n",
    "      \n",
    "        score = cross_val_score(\n",
    "            nn, \n",
    "            trainX_model, \n",
    "            trainy_model, \n",
    "            scoring=score_acc, \n",
    "            cv=kfold, \n",
    "            fit_params = {'callbacks':[es]}\n",
    "          ).mean()\n",
    "  \n",
    "    return score        \n"
   ]
  },
  {
   "cell_type": "markdown",
   "id": "508b9ce3",
   "metadata": {
    "execution": {
     "iopub.execute_input": "2024-01-31T00:32:22.223950Z",
     "iopub.status.busy": "2024-01-31T00:32:22.223381Z",
     "iopub.status.idle": "2024-01-31T00:32:22.270401Z",
     "shell.execute_reply": "2024-01-31T00:32:22.269260Z",
     "shell.execute_reply.started": "2024-01-31T00:32:22.223903Z"
    },
    "papermill": {
     "duration": 0.024493,
     "end_time": "2024-02-02T03:25:12.287172",
     "exception": false,
     "start_time": "2024-02-02T03:25:12.262679",
     "status": "completed"
    },
    "tags": []
   },
   "source": [
    "## hypertuning using Bayesian Optimization Grid Search"
   ]
  },
  {
   "cell_type": "code",
   "execution_count": 37,
   "id": "e7befb33",
   "metadata": {
    "execution": {
     "iopub.execute_input": "2024-02-02T03:25:12.339510Z",
     "iopub.status.busy": "2024-02-02T03:25:12.339044Z",
     "iopub.status.idle": "2024-02-02T03:25:12.350632Z",
     "shell.execute_reply": "2024-02-02T03:25:12.349448Z"
    },
    "papermill": {
     "duration": 0.040424,
     "end_time": "2024-02-02T03:25:12.352909",
     "exception": false,
     "start_time": "2024-02-02T03:25:12.312485",
     "status": "completed"
    },
    "tags": []
   },
   "outputs": [],
   "source": [
    "import tensorflow as tf\n",
    "seed = 7\n",
    "tf.random.set_seed(seed)\n",
    "\n",
    "batch_end = 512 \n",
    "batch_size=(32, batch_end)\n",
    "epochs = (10,50)\n",
    "\n",
    "max_num_layers = 3           # No formula, always change manually - 3 works\n",
    "num_hidden_layers = (0, max_num_layers)\n",
    "\n",
    "alpha = 2.0 * max_num_layers # alpha - some value btw 2 -> 10     - 7.0 works\n",
    "min_check = round(num_inputs + num_outputs)\n",
    "max_check = round(num_samples * alpha)\n",
    "max_layers = 256 if max_check > 256 else max_check\n",
    "neurons = (min_check, max_layers)\n",
    "\n",
    "lr = (0.001, 1.0)                           # learning_rate\n",
    "momentum = (0.0, 0.99)                      # momentum for optimizers - SGD, RMSprop\n",
    "weight_constraint = (1.0, 6.0)              # layers\n",
    "dropout = (0.2, 0.7)                        # dropout ratio for Dropout layer\n",
    "\n",
    "# normalization - Batch    - use this setting only for BatchNorm layer\n",
    "# normalization = (0,1),\n",
    "\n",
    "# number in optimizers_list 8\n",
    "optimizer = (0, 8)\n",
    "\n",
    "# number in init_mode_list 8\n",
    "init_mode = (0, 8)\n",
    "\n",
    "# number in activations_list 5\n",
    "activation = (0, 4)\n",
    "\n",
    "# keras.regularizers.l1(0.01)   # sum of absolute weights\n",
    "# keras.regularizers.l2(0.01)   # sum of the suared weights\n",
    "# keras.regularizers.l1_l2(l1=0.01, l2=0.01)  # sum of absolute and squared weights\n",
    "l2 = (1e-4, 0.1)\n",
    "\n",
    "# from keras.regularizers import l2\n",
    "# model.add(Dense(32, kernel_regularizer=l2(0.01), bias_regularizer=l2(0.01)))\n",
    "\n",
    "# create param_grid dictionary\n",
    "param_grid = dict(batch_size = batch_size,\n",
    "                  optimizer = optimizer,\n",
    "                  lr = lr,\n",
    "                  l2 = l2,\n",
    "                  neurons = neurons,\n",
    "                  num_hidden_layers = num_hidden_layers,\n",
    "                  momentum = momentum,\n",
    "                  init_mode = init_mode,\n",
    "                  activation = activation,\n",
    "                  weight_constraint = weight_constraint,\n",
    "                  dropout = dropout,\n",
    "                  epochs = epochs,\n",
    "                 )\n"
   ]
  },
  {
   "cell_type": "code",
   "execution_count": 38,
   "id": "d097b529",
   "metadata": {
    "execution": {
     "iopub.execute_input": "2024-02-02T03:25:12.406110Z",
     "iopub.status.busy": "2024-02-02T03:25:12.405276Z",
     "iopub.status.idle": "2024-02-02T03:25:12.418628Z",
     "shell.execute_reply": "2024-02-02T03:25:12.416779Z"
    },
    "papermill": {
     "duration": 0.043018,
     "end_time": "2024-02-02T03:25:12.421292",
     "exception": false,
     "start_time": "2024-02-02T03:25:12.378274",
     "status": "completed"
    },
    "tags": []
   },
   "outputs": [
    {
     "name": "stdout",
     "output_type": "stream",
     "text": [
      "                         0       1\n",
      "batch_size         32.0000  512.00\n",
      "optimizer           0.0000    8.00\n",
      "lr                  0.0010    1.00\n",
      "l2                  0.0001    0.10\n",
      "neurons            29.0000  256.00\n",
      "num_hidden_layers   0.0000    3.00\n",
      "momentum            0.0000    0.99\n",
      "init_mode           0.0000    8.00\n",
      "activation          0.0000    4.00\n",
      "weight_constraint   1.0000    6.00\n",
      "dropout             0.2000    0.70\n",
      "epochs             10.0000   50.00\n"
     ]
    }
   ],
   "source": [
    "params_df = pd.DataFrame.from_dict(data=param_grid)\n",
    "print(params_df.T)\n",
    "\n",
    "# Run Bayeisian Optimization\n",
    "nn_bo = BayesianOptimization(create_hyper_model, param_grid, random_state=111)"
   ]
  },
  {
   "cell_type": "markdown",
   "id": "303584af",
   "metadata": {
    "papermill": {
     "duration": 0.025822,
     "end_time": "2024-02-02T03:25:12.472452",
     "exception": false,
     "start_time": "2024-02-02T03:25:12.446630",
     "status": "completed"
    },
    "tags": []
   },
   "source": [
    "## hyperparameter search is executed only \n",
    "if **execute_bayes_opt** is True  \n",
    "    - please use Google Colab or AWS EC2 for hyperparameter search"
   ]
  },
  {
   "cell_type": "code",
   "execution_count": 39,
   "id": "bdaa2ceb",
   "metadata": {
    "execution": {
     "iopub.execute_input": "2024-02-02T03:25:12.525154Z",
     "iopub.status.busy": "2024-02-02T03:25:12.524437Z",
     "iopub.status.idle": "2024-02-02T03:25:12.529947Z",
     "shell.execute_reply": "2024-02-02T03:25:12.528950Z"
    },
    "papermill": {
     "duration": 0.034452,
     "end_time": "2024-02-02T03:25:12.532449",
     "exception": false,
     "start_time": "2024-02-02T03:25:12.497997",
     "status": "completed"
    },
    "tags": []
   },
   "outputs": [],
   "source": [
    "execute_bayes_opt = False     # change to True to execute search\n",
    "\n",
    "if execute_bayes_opt:\n",
    "    ## NOT EXECUTING ON KAGGLE - pls try on Google Colab or AWD EC2 ##\n",
    "    ## maximize hyper-parameters\n",
    "    ##  nn_bo.maximize(init_points=10, n_iter=3)\n",
    "    #\n",
    "    nn_bo.maximize(init_points=5, n_iter=1)"
   ]
  },
  {
   "cell_type": "code",
   "execution_count": 40,
   "id": "92a25244",
   "metadata": {
    "execution": {
     "iopub.execute_input": "2024-02-02T03:25:12.585875Z",
     "iopub.status.busy": "2024-02-02T03:25:12.585482Z",
     "iopub.status.idle": "2024-02-02T03:25:12.594923Z",
     "shell.execute_reply": "2024-02-02T03:25:12.593579Z"
    },
    "papermill": {
     "duration": 0.039718,
     "end_time": "2024-02-02T03:25:12.597601",
     "exception": false,
     "start_time": "2024-02-02T03:25:12.557883",
     "status": "completed"
    },
    "tags": []
   },
   "outputs": [],
   "source": [
    "if execute_bayes_opt:\n",
    "    # best hyper-parameters\n",
    "    params_nn_ = nn_bo.max['params']\n",
    "\n",
    "    params_df = pd.DataFrame.from_dict(params_nn_, orient='index')\n",
    "    print(params_df)\n",
    "\n",
    "    print(params_nn_.keys())\n",
    "\n",
    "    # define activationL\n",
    "    params_nn_['activation'] = activations_list[round(params_nn_['activation'])]\n",
    "    params_nn_['init_mode'] = init_mode_list[round(params_nn_['init_mode'])]\n",
    "    params_nn_['optimizer'] = optimizers_list[round(params_nn_['optimizer'])]\n",
    "    print(params_nn_)\n",
    "\n",
    "    for key,value in params_nn_.items():\n",
    "        hyper_params[key] = value\n",
    "\n",
    "    # list all hyper-parameters for this run\n",
    "    for key in hyper_params.keys():\n",
    "        print(f'key: {key:20s} value: {hyper_params[key]}')\n"
   ]
  },
  {
   "cell_type": "markdown",
   "id": "93a4f6d3",
   "metadata": {
    "papermill": {
     "duration": 0.026261,
     "end_time": "2024-02-02T03:25:12.649806",
     "exception": false,
     "start_time": "2024-02-02T03:25:12.623545",
     "status": "completed"
    },
    "tags": []
   },
   "source": [
    "## callbacks"
   ]
  },
  {
   "cell_type": "code",
   "execution_count": 41,
   "id": "5b127988",
   "metadata": {
    "execution": {
     "iopub.execute_input": "2024-02-02T03:25:12.702807Z",
     "iopub.status.busy": "2024-02-02T03:25:12.702412Z",
     "iopub.status.idle": "2024-02-02T03:25:12.709147Z",
     "shell.execute_reply": "2024-02-02T03:25:12.707877Z"
    },
    "papermill": {
     "duration": 0.035827,
     "end_time": "2024-02-02T03:25:12.711516",
     "exception": false,
     "start_time": "2024-02-02T03:25:12.675689",
     "status": "completed"
    },
    "tags": []
   },
   "outputs": [],
   "source": [
    "save_best_model = keras.callbacks.ModelCheckpoint(filepath='bank_churn.keras',\n",
    "                                  monitor='val_loss',\n",
    "                                  save_best_only=True,\n",
    ")\n",
    "\n",
    "# early stopping call back on 'val_loss'\n",
    "early_stop = keras.callbacks.EarlyStopping(monitor='val_accuracy',  # what to monitor \n",
    "                         min_delta=0.02,       # change to monitor\n",
    "                         patience= 10, # round(best_epoch_num/10), # num of epochs to wait before breaking out\n",
    "                         mode='max',          # here 'min' stop decreasing\n",
    "                         verbose=1,           # verbose=0 don't print output\n",
    "                         restore_best_weights=True,   # whether to restore model weights\n",
    "                        )"
   ]
  },
  {
   "cell_type": "code",
   "execution_count": 42,
   "id": "cb12ca2b",
   "metadata": {
    "execution": {
     "iopub.execute_input": "2024-02-02T03:25:12.764632Z",
     "iopub.status.busy": "2024-02-02T03:25:12.763721Z",
     "iopub.status.idle": "2024-02-02T03:25:12.776302Z",
     "shell.execute_reply": "2024-02-02T03:25:12.775285Z"
    },
    "papermill": {
     "duration": 0.04224,
     "end_time": "2024-02-02T03:25:12.778859",
     "exception": false,
     "start_time": "2024-02-02T03:25:12.736619",
     "status": "completed"
    },
    "tags": []
   },
   "outputs": [],
   "source": [
    "# https://www.tensorflow.org/guide/keras/writing_your_own_callbacks\n",
    "# https://keras.io/guides/writing_your_own_callbacks/\n",
    "class CustomLearningRateScheduler(keras.callbacks.Callback):\n",
    "    \"\"\"Learning rate scheduler which sets the learning rate according to schedule.\n",
    "\n",
    "    Arguments:\n",
    "        schedule: a function that takes an epoch index\n",
    "            (integer, indexed from 0) and current learning rate\n",
    "            as inputs and returns a new learning rate as output (float).\n",
    "    \"\"\"\n",
    "\n",
    "    def __init__(self, schedule):\n",
    "        super().__init__()\n",
    "        self.schedule = schedule\n",
    "\n",
    "    def on_epoch_begin(self, epoch, logs=None):\n",
    "        if not hasattr(self.model.optimizer, \"lr\"):\n",
    "            raise ValueError('Optimizer must have a \"lr\" attribute.')\n",
    "        \n",
    "        # Get the current learning rate from model's optimizer.\n",
    "        lr = float(tf.keras.backend.get_value(self.model.optimizer.learning_rate))\n",
    "        # Call schedule function to get the scheduled learning rate.\n",
    "        scheduled_lr = self.schedule(epoch, lr)\n",
    "        # Set the value back to the optimizer before this epoch starts\n",
    "        tf.keras.backend.set_value(self.model.optimizer.lr, scheduled_lr)\n",
    "        print(\"\\nEpoch %05d: Learning rate is %6.4f.\" % (epoch, scheduled_lr))\n",
    "\n",
    "\n",
    "LR_SCHEDULE = [\n",
    "    # (epoch to start, learning rate) tuples\n",
    "    (3, 0.05),\n",
    "    (6, 0.01),\n",
    "    (9, 0.005),\n",
    "    (12, 0.001),\n",
    "]\n",
    "\n",
    "\n",
    "def lr_schedule(epoch, lr):\n",
    "    \"\"\"Helper function to retrieve the scheduled learning rate based on epoch.\"\"\"\n",
    "    if epoch < LR_SCHEDULE[0][0] or epoch > LR_SCHEDULE[-1][0]:\n",
    "        return lr\n",
    "    for i in range(len(LR_SCHEDULE)):\n",
    "        if epoch == LR_SCHEDULE[i][0]:\n",
    "            return LR_SCHEDULE[i][1]\n",
    "    return lr"
   ]
  },
  {
   "cell_type": "markdown",
   "id": "02835538",
   "metadata": {
    "papermill": {
     "duration": 0.024905,
     "end_time": "2024-02-02T03:25:12.829389",
     "exception": false,
     "start_time": "2024-02-02T03:25:12.804484",
     "status": "completed"
    },
    "tags": []
   },
   "source": [
    "## create final model with hyperparameters "
   ]
  },
  {
   "cell_type": "code",
   "execution_count": 43,
   "id": "b16a6d10",
   "metadata": {
    "execution": {
     "iopub.execute_input": "2024-02-02T03:25:12.882946Z",
     "iopub.status.busy": "2024-02-02T03:25:12.882553Z",
     "iopub.status.idle": "2024-02-02T03:25:12.890411Z",
     "shell.execute_reply": "2024-02-02T03:25:12.889121Z"
    },
    "papermill": {
     "duration": 0.037441,
     "end_time": "2024-02-02T03:25:12.892902",
     "exception": false,
     "start_time": "2024-02-02T03:25:12.855461",
     "status": "completed"
    },
    "tags": []
   },
   "outputs": [],
   "source": [
    "# final model parameters based on grid search - accuracy is not good since the dataset needs cleaning\n",
    "# values from Google Colab run\n",
    "hyper_params['learning_rate'] = 0.001\n",
    "hyper_params['momentum'] = 0.6621259179814157\n",
    "hyper_params['init_mode'] = 'glorot_uniform'\n",
    "hyper_params['activation'] = 'selu'\n",
    "hyper_params['dropout'] = 0.28967239193301675\n",
    "hyper_params['weight_constraint'] = 5.816334364872265\n",
    "hyper_params['neurons'] = 129.16787623724508\n",
    "hyper_params['optimizer'] = 'Adadelta'\n",
    "hyper_params['epochs'] = 15.984528629437222\n",
    "hyper_params['batch_size'] = 117.74038879385675\n",
    "hyper_params['num_hidden_layers'] = 1.785676351323205\n",
    "hyper_params['l2_rate'] = 0.0001\n",
    "hyper_params['l2'] = 0.04695395420696539\n",
    "hyper_params['lr'] = 0.7684796829725257\n"
   ]
  },
  {
   "cell_type": "code",
   "execution_count": 44,
   "id": "a9e89803",
   "metadata": {
    "execution": {
     "iopub.execute_input": "2024-02-02T03:25:12.945652Z",
     "iopub.status.busy": "2024-02-02T03:25:12.945280Z",
     "iopub.status.idle": "2024-02-02T03:25:13.126573Z",
     "shell.execute_reply": "2024-02-02T03:25:13.125573Z"
    },
    "papermill": {
     "duration": 0.221473,
     "end_time": "2024-02-02T03:25:13.139474",
     "exception": false,
     "start_time": "2024-02-02T03:25:12.918001",
     "status": "completed"
    },
    "tags": []
   },
   "outputs": [
    {
     "name": "stdout",
     "output_type": "stream",
     "text": [
      "Model: \"model\"\n",
      "_________________________________________________________________\n",
      " Layer (type)                Output Shape              Param #   \n",
      "=================================================================\n",
      " input_1 (InputLayer)        [(None, 28)]              0         \n",
      "                                                                 \n",
      " dropout (Dropout)           (None, 28)                0         \n",
      "                                                                 \n",
      " dense (Dense)               (None, 129)               3741      \n",
      "                                                                 \n",
      " dense_2 (Dense)             (None, 49)                6370      \n",
      "                                                                 \n",
      " dropout_1 (Dropout)         (None, 49)                0         \n",
      "                                                                 \n",
      " dense_3 (Dense)             (None, 1)                 50        \n",
      "                                                                 \n",
      "=================================================================\n",
      "Total params: 10161 (39.69 KB)\n",
      "Trainable params: 10161 (39.69 KB)\n",
      "Non-trainable params: 0 (0.00 Byte)\n",
      "_________________________________________________________________\n"
     ]
    }
   ],
   "source": [
    "# create model with best parameters from BayesOptimizer\n",
    "model = create_hyper_model(lr=hyper_params['lr'],\n",
    "                           momentum=hyper_params['momentum'],\n",
    "                           init_mode=hyper_params['init_mode'],\n",
    "                           activation=hyper_params['activation'],\n",
    "                           dropout=hyper_params['dropout'],\n",
    "                           weight_constraint=hyper_params['weight_constraint'],\n",
    "                           neurons=hyper_params['neurons'],\n",
    "                           optimizer=hyper_params['optimizer'],\n",
    "                           num_hidden_layers=hyper_params['num_hidden_layers'],\n",
    "                           l2=hyper_params['l2'],\n",
    "                           epochs=hyper_params['epochs'],\n",
    "                           batch_size=hyper_params['batch_size'],                           \n",
    "                           create_model=True,\n",
    "                          )\n",
    "model.summary()\n"
   ]
  },
  {
   "cell_type": "code",
   "execution_count": 45,
   "id": "68e058a4",
   "metadata": {
    "execution": {
     "iopub.execute_input": "2024-02-02T03:25:13.196031Z",
     "iopub.status.busy": "2024-02-02T03:25:13.195645Z",
     "iopub.status.idle": "2024-02-02T03:25:51.609043Z",
     "shell.execute_reply": "2024-02-02T03:25:51.607895Z"
    },
    "papermill": {
     "duration": 38.444687,
     "end_time": "2024-02-02T03:25:51.611684",
     "exception": false,
     "start_time": "2024-02-02T03:25:13.166997",
     "status": "completed"
    },
    "tags": []
   },
   "outputs": [
    {
     "name": "stdout",
     "output_type": "stream",
     "text": [
      "number of epochs:  15.984528629437222 batch_size:  117.74038879385675\n",
      "Epoch 1/16\n",
      "980/980 [==============================] - 5s 4ms/step - loss: 0.8290 - accuracy: 0.8012 - val_loss: 0.4260 - val_accuracy: 0.8080\n",
      "Epoch 2/16\n",
      "980/980 [==============================] - 3s 3ms/step - loss: 0.4460 - accuracy: 0.8079 - val_loss: 0.4226 - val_accuracy: 0.8343\n",
      "Epoch 3/16\n",
      "980/980 [==============================] - 3s 3ms/step - loss: 0.4410 - accuracy: 0.8106 - val_loss: 0.4852 - val_accuracy: 0.7908\n",
      "Epoch 4/16\n",
      "980/980 [==============================] - 3s 3ms/step - loss: 0.4398 - accuracy: 0.8118 - val_loss: 0.4232 - val_accuracy: 0.7992\n",
      "Epoch 5/16\n",
      "980/980 [==============================] - 3s 3ms/step - loss: 0.4348 - accuracy: 0.8141 - val_loss: 0.3980 - val_accuracy: 0.8315\n",
      "Epoch 6/16\n",
      "980/980 [==============================] - 3s 3ms/step - loss: 0.4333 - accuracy: 0.8127 - val_loss: 0.4179 - val_accuracy: 0.8038\n",
      "Epoch 7/16\n",
      "980/980 [==============================] - 3s 3ms/step - loss: 0.4324 - accuracy: 0.8137 - val_loss: 0.4373 - val_accuracy: 0.7937\n",
      "Epoch 8/16\n",
      "980/980 [==============================] - 3s 3ms/step - loss: 0.4299 - accuracy: 0.8157 - val_loss: 0.4476 - val_accuracy: 0.7969\n",
      "Epoch 9/16\n",
      "980/980 [==============================] - 3s 3ms/step - loss: 0.4300 - accuracy: 0.8154 - val_loss: 0.4010 - val_accuracy: 0.8340\n",
      "Epoch 10/16\n",
      "980/980 [==============================] - 3s 3ms/step - loss: 0.4299 - accuracy: 0.8140 - val_loss: 0.3990 - val_accuracy: 0.8181\n",
      "Epoch 11/16\n",
      "980/980 [==============================] - 3s 3ms/step - loss: 0.4291 - accuracy: 0.8160 - val_loss: 0.4500 - val_accuracy: 0.7951\n",
      "Epoch 12/16\n",
      "973/980 [============================>.] - ETA: 0s - loss: 0.4290 - accuracy: 0.8150Restoring model weights from the end of the best epoch: 2.\n",
      "980/980 [==============================] - 3s 3ms/step - loss: 0.4288 - accuracy: 0.8152 - val_loss: 0.3972 - val_accuracy: 0.8199\n",
      "Epoch 12: early stopping\n"
     ]
    }
   ],
   "source": [
    "num_epochs = hyper_params['epochs']\n",
    "num_batch_size = hyper_params['batch_size']\n",
    "print('number of epochs: ', num_epochs,'batch_size: ',  num_batch_size)\n",
    "# cb = TimingCallback()\n",
    "# callbacks_list = [early_stop, CustomLearningRateScheduler(lr_schedule), save_best_model]\n",
    "callbacks_list = [early_stop, save_best_model]\n",
    "# callbacks_list = [save_best_model]\n",
    "\n",
    "history = model.fit(trainX_model, trainy_model,\n",
    "                    epochs=round(num_epochs),\n",
    "                    batch_size=round(num_batch_size),\n",
    "                    validation_data=(valX_model, valy_model),\n",
    "                    callbacks=callbacks_list,\n",
    "                    verbose=1,\n",
    "                   )\n"
   ]
  },
  {
   "cell_type": "code",
   "execution_count": 46,
   "id": "b9095629",
   "metadata": {
    "execution": {
     "iopub.execute_input": "2024-02-02T03:25:51.780218Z",
     "iopub.status.busy": "2024-02-02T03:25:51.779770Z",
     "iopub.status.idle": "2024-02-02T03:25:52.388566Z",
     "shell.execute_reply": "2024-02-02T03:25:52.387313Z"
    },
    "papermill": {
     "duration": 0.696282,
     "end_time": "2024-02-02T03:25:52.391485",
     "exception": false,
     "start_time": "2024-02-02T03:25:51.695203",
     "status": "completed"
    },
    "tags": []
   },
   "outputs": [
    {
     "data": {
      "text/plain": [
       "<matplotlib.legend.Legend at 0x7c56c2adf2b0>"
      ]
     },
     "execution_count": 46,
     "metadata": {},
     "output_type": "execute_result"
    },
    {
     "data": {
      "image/png": "[encoded data removed]",
      "text/plain": [
       "<Figure size 1200x600 with 2 Axes>"
      ]
     },
     "metadata": {},
     "output_type": "display_data"
    }
   ],
   "source": [
    "# plot loss\n",
    "plt.figure(figsize=(12,6))\n",
    "plt.subplot(121)\n",
    "plt.plot(history.history['loss'], label='train loss')\n",
    "plt.plot(history.history['val_loss'], label='validation loss')\n",
    "plt.title('Loss')\n",
    "plt.legend(['Train', 'Validation'])\n",
    "\n",
    "# plot accuracy\n",
    "plt.subplot(122)\n",
    "plt.plot(history.history['accuracy'], label='train accuracy')\n",
    "plt.plot(history.history['val_accuracy'], label='validation accuracy')\n",
    "plt.title('Accuracy')\n",
    "plt.legend(['Train', 'Validation'])"
   ]
  },
  {
   "cell_type": "markdown",
   "id": "7124f5c6",
   "metadata": {
    "execution": {
     "iopub.execute_input": "2024-01-31T03:21:09.347330Z",
     "iopub.status.busy": "2024-01-31T03:21:09.346903Z",
     "iopub.status.idle": "2024-01-31T03:21:09.359034Z",
     "shell.execute_reply": "2024-01-31T03:21:09.357499Z",
     "shell.execute_reply.started": "2024-01-31T03:21:09.347295Z"
    },
    "papermill": {
     "duration": 0.086869,
     "end_time": "2024-02-02T03:25:52.564266",
     "exception": false,
     "start_time": "2024-02-02T03:25:52.477397",
     "status": "completed"
    },
    "tags": []
   },
   "source": [
    "## Evaluate and predict Validation set"
   ]
  },
  {
   "cell_type": "code",
   "execution_count": 47,
   "id": "f42137d8",
   "metadata": {
    "execution": {
     "iopub.execute_input": "2024-02-02T03:25:52.736326Z",
     "iopub.status.busy": "2024-02-02T03:25:52.735918Z",
     "iopub.status.idle": "2024-02-02T03:26:01.196713Z",
     "shell.execute_reply": "2024-02-02T03:26:01.195772Z"
    },
    "papermill": {
     "duration": 8.55056,
     "end_time": "2024-02-02T03:26:01.199337",
     "exception": false,
     "start_time": "2024-02-02T03:25:52.648777",
     "status": "completed"
    },
    "tags": []
   },
   "outputs": [
    {
     "name": "stdout",
     "output_type": "stream",
     "text": [
      "1548/1548 [==============================] - 2s 2ms/step - loss: 0.4226 - accuracy: 0.8343\n",
      "Val accuracy:  0.834\n",
      "1548/1548 [==============================] - 2s 1ms/step\n",
      "[0 1] [0 1] 0 1\n",
      "              precision    recall  f1-score   support\n",
      "\n",
      "           0       0.86      0.94      0.90     39133\n",
      "           1       0.67      0.42      0.52     10378\n",
      "\n",
      "    accuracy                           0.83     49511\n",
      "   macro avg       0.76      0.68      0.71     49511\n",
      "weighted avg       0.82      0.83      0.82     49511\n",
      "\n"
     ]
    },
    {
     "data": {
      "image/png": "[encoded data removed]",
      "text/plain": [
       "<Figure size 640x480 with 2 Axes>"
      ]
     },
     "metadata": {},
     "output_type": "display_data"
    }
   ],
   "source": [
    "score = model.evaluate(valX_model, valy_model)\n",
    "print('Val accuracy: ', round(score[1],3))\n",
    "\n",
    "val_predict = model.predict(valX_model)\n",
    "yhat = [1 if predict > 0.5 else 0 for predict in val_predict]\n",
    "print(trainy_model.unique(), valy_model.unique(), min(yhat), max(yhat))\n",
    "\n",
    "from sklearn.metrics import classification_report, confusion_matrix\n",
    "print(classification_report(valy_model, yhat))\n",
    "\n",
    "labels=['Remain', 'Exited']\n",
    "sns.heatmap(confusion_matrix(valy_model, yhat), annot=True, cmap='viridis', fmt='d', square=True, xticklabels=labels, yticklabels=labels)\n",
    "plt.xlabel('Predicted')\n",
    "plt.ylabel('True')\n",
    "plt.title('Confusion Matrix')\n",
    "plt.show()"
   ]
  },
  {
   "cell_type": "markdown",
   "id": "56b1fb22",
   "metadata": {
    "execution": {
     "iopub.execute_input": "2024-01-31T03:05:07.641615Z",
     "iopub.status.busy": "2024-01-31T03:05:07.641207Z",
     "iopub.status.idle": "2024-01-31T03:05:07.649380Z",
     "shell.execute_reply": "2024-01-31T03:05:07.648118Z",
     "shell.execute_reply.started": "2024-01-31T03:05:07.641584Z"
    },
    "papermill": {
     "duration": 0.09322,
     "end_time": "2024-02-02T03:26:01.387809",
     "exception": false,
     "start_time": "2024-02-02T03:26:01.294589",
     "status": "completed"
    },
    "tags": []
   },
   "source": [
    "## Create predictions on Test set and prepare for submission"
   ]
  },
  {
   "cell_type": "code",
   "execution_count": 48,
   "id": "a22af995",
   "metadata": {
    "execution": {
     "iopub.execute_input": "2024-02-02T03:26:01.582825Z",
     "iopub.status.busy": "2024-02-02T03:26:01.581697Z",
     "iopub.status.idle": "2024-02-02T03:26:08.432137Z",
     "shell.execute_reply": "2024-02-02T03:26:08.430909Z"
    },
    "papermill": {
     "duration": 6.953055,
     "end_time": "2024-02-02T03:26:08.434666",
     "exception": false,
     "start_time": "2024-02-02T03:26:01.481611",
     "status": "completed"
    },
    "tags": []
   },
   "outputs": [
    {
     "name": "stdout",
     "output_type": "stream",
     "text": [
      "3439/3439 [==============================] - 5s 1ms/step\n"
     ]
    }
   ],
   "source": [
    "test_predictions = model.predict(testX_model)\n",
    "test_model_data = pd.DataFrame()\n",
    "test_model_data['id'] = test_id\n",
    "test_model_data['Exited'] = [1 if predict > 0.5 else 0 for predict in test_predictions]\n",
    "test_model_data.to_csv('bank_churn_submission.csv', index = False)"
   ]
  },
  {
   "cell_type": "code",
   "execution_count": 49,
   "id": "d6162e9a",
   "metadata": {
    "execution": {
     "iopub.execute_input": "2024-02-02T03:26:08.644919Z",
     "iopub.status.busy": "2024-02-02T03:26:08.644504Z",
     "iopub.status.idle": "2024-02-02T03:26:08.656233Z",
     "shell.execute_reply": "2024-02-02T03:26:08.655178Z"
    },
    "papermill": {
     "duration": 0.120762,
     "end_time": "2024-02-02T03:26:08.658594",
     "exception": false,
     "start_time": "2024-02-02T03:26:08.537832",
     "status": "completed"
    },
    "tags": []
   },
   "outputs": [
    {
     "data": {
      "text/plain": [
       "14724"
      ]
     },
     "execution_count": 49,
     "metadata": {},
     "output_type": "execute_result"
    }
   ],
   "source": [
    "test_predictions.max(), test_predictions.min(), test_predictions.mean()\n",
    "len(test_model_data[test_model_data['Exited'] == 1])"
   ]
  },
  {
   "cell_type": "code",
   "execution_count": 50,
   "id": "b5e9c4f0",
   "metadata": {
    "execution": {
     "iopub.execute_input": "2024-02-02T03:26:08.867059Z",
     "iopub.status.busy": "2024-02-02T03:26:08.866324Z",
     "iopub.status.idle": "2024-02-02T03:26:08.871233Z",
     "shell.execute_reply": "2024-02-02T03:26:08.869591Z"
    },
    "papermill": {
     "duration": 0.111126,
     "end_time": "2024-02-02T03:26:08.873459",
     "exception": false,
     "start_time": "2024-02-02T03:26:08.762333",
     "status": "completed"
    },
    "tags": []
   },
   "outputs": [],
   "source": [
    "# !head -10 /kaggle/working/bank_churn_submission.csv"
   ]
  }
 ],
 "metadata": {
  "kaggle": {
   "accelerator": "none",
   "dataSources": [
    {
     "databundleVersionId": 7405009,
     "sourceId": 65711,
     "sourceType": "competition"
    }
   ],
   "dockerImageVersionId": 30646,
   "isGpuEnabled": false,
   "isInternetEnabled": true,
   "language": "python",
   "sourceType": "notebook"
  },
  "kernelspec": {
   "display_name": "Python 3",
   "language": "python",
   "name": "python3"
  },
  "language_info": {
   "codemirror_mode": {
    "name": "ipython",
    "version": 3
   },
   "file_extension": ".py",
   "mimetype": "text/x-python",
   "name": "python",
   "nbconvert_exporter": "python",
   "pygments_lexer": "ipython3",
   "version": "3.10.13"
  },
  "papermill": {
   "default_parameters": {},
   "duration": 105.820226,
   "end_time": "2024-02-02T03:26:10.803745",
   "environment_variables": {},
   "exception": null,
   "input_path": "__notebook__.ipynb",
   "output_path": "__notebook__.ipynb",
   "parameters": {},
   "start_time": "2024-02-02T03:24:24.983519",
   "version": "2.5.0"
  }
 },
 "nbformat": 4,
 "nbformat_minor": 5
}
